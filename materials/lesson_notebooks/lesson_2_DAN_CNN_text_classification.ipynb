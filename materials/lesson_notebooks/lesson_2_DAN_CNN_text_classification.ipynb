{
 "cells": [
  {
   "cell_type": "markdown",
   "metadata": {
    "id": "d3FHyR2vMlnM"
   },
   "source": [
    "# lesson_2_DAN_CNN_Word2Vec_Embeddings_Classifier\n",
    "\n",
    "**Description:** Text classification on the IMDB movie dataset using i) Deep Averaging Networks, and ii) Convolutions Neural Nets (CNN) and pre-trained Word2Vec word embeddings.<br>\n",
    "\n",
    "Section 1 deals with setup and prerequisites, which does not need a lot of discussion. \n",
    "Data acquisition and preparation are handled in section 2, and section 3 looks at DANs and CNNs.\n",
    "\n",
    "<a id = 'returnToTop'></a>\n",
    "\n",
    "## Notebook Contents\n",
    "  * 1. [Setup](#setup) \n",
    "  * 2. [Creation of the Dataset](#creationOfDataset)  \n",
    "  * 3. [Modeling](#modeling)\n",
    "    * 3.1 [Averaging Network (AN) Model](#averagingNetwork)\n",
    "    * 3.2 [Deep Averaging Network (DAN)](#modelDAN)\n",
    "    * 3.3 [Convolutional Neural Net (CNN)](#modelCNN)\n",
    "    * 3.4 [In-Class Exercises](#inClassExercises)\n",
    "\n",
    "  \n",
    "  \n",
    "  [![Open In Colab](https://colab.research.google.com/assets/colab-badge.svg)](https://colab.research.google.com/github/datasci-w266/2023-summer-main/blob/master/materials/lesson_notebooks/lesson_2_DAN_CNN_text_classification.ipynb)"
   ]
  },
  {
   "cell_type": "markdown",
   "metadata": {
    "id": "FEK-bUc2MlnO"
   },
   "source": [
    "[Return to Top](#returnToTop)  \n",
    "<a id = 'setup'></a>\n",
    "## 1. Setup\n",
    "\n",
    "This notebook requires the tensorflow dataset and other prerequisites that you must download and then store locally. \n",
    "\n",
    "More importantly, if you want to run this notebook on your GCP instance (rather than on Colab) you may need to install a gcc compiler.  It should have been installed as part of your instance setup. In case it hasn't, the best way of doing that is to run the following command in a terminal for your instance:\n",
    "\n",
    "``sudo apt install build-essential``\n",
    "\n",
    "This will install the gcc package in addition to some other libraries that you might need to compile and build C and C++ based software.\n",
    "\n",
    "Again on your GCP instance only you may also need to explicitly install graphviz in order to print some plots.  \n",
    "\n",
    "``sudo apt-get install graphviz``"
   ]
  },
  {
   "cell_type": "code",
   "execution_count": 1,
   "metadata": {
    "id": "N4gdz81fMlnP"
   },
   "outputs": [],
   "source": [
    "!pip install gensim --quiet"
   ]
  },
  {
   "cell_type": "code",
   "execution_count": 2,
   "metadata": {
    "id": "dOSnMqiYMlnP"
   },
   "outputs": [],
   "source": [
    "!pip install tensorflow-datasets --quiet"
   ]
  },
  {
   "cell_type": "code",
   "execution_count": 3,
   "metadata": {
    "colab": {
     "base_uri": "https://localhost:8080/"
    },
    "id": "pu8MIPByMlnP",
    "outputId": "97767b92-beaa-4946-87f8-3349e58931ae"
   },
   "outputs": [
    {
     "name": "stdout",
     "output_type": "stream",
     "text": [
      "\u001b[?25l     \u001b[90m━━━━━━━━━━━━━━━━━━━━━━━━━━━━━━━━━━━━━━━━\u001b[0m \u001b[32m0.0/6.0 MB\u001b[0m \u001b[31m?\u001b[0m eta \u001b[36m-:--:--\u001b[0m\r",
      "\u001b[2K     \u001b[91m━\u001b[0m\u001b[91m╸\u001b[0m\u001b[90m━━━━━━━━━━━━━━━━━━━━━━━━━━━━━━━━━━━━━━\u001b[0m \u001b[32m0.3/6.0 MB\u001b[0m \u001b[31m10.1 MB/s\u001b[0m eta \u001b[36m0:00:01\u001b[0m\r",
      "\u001b[2K     \u001b[91m━━━━━━━━━━━━━━\u001b[0m\u001b[90m╺\u001b[0m\u001b[90m━━━━━━━━━━━━━━━━━━━━━━━━━\u001b[0m \u001b[32m2.2/6.0 MB\u001b[0m \u001b[31m35.3 MB/s\u001b[0m eta \u001b[36m0:00:01\u001b[0m\r",
      "\u001b[2K     \u001b[91m━━━━━━━━━━━━━━━━━━━━━━━━━━━━━━\u001b[0m\u001b[90m╺\u001b[0m\u001b[90m━━━━━━━━━\u001b[0m \u001b[32m4.5/6.0 MB\u001b[0m \u001b[31m44.7 MB/s\u001b[0m eta \u001b[36m0:00:01\u001b[0m\r",
      "\u001b[2K     \u001b[91m━━━━━━━━━━━━━━━━━━━━━━━━━━━━━━━━━━━━━━━\u001b[0m\u001b[91m╸\u001b[0m \u001b[32m6.0/6.0 MB\u001b[0m \u001b[31m48.0 MB/s\u001b[0m eta \u001b[36m0:00:01\u001b[0m\r",
      "\u001b[2K     \u001b[91m━━━━━━━━━━━━━━━━━━━━━━━━━━━━━━━━━━━━━━━\u001b[0m\u001b[91m╸\u001b[0m \u001b[32m6.0/6.0 MB\u001b[0m \u001b[31m48.0 MB/s\u001b[0m eta \u001b[36m0:00:01\u001b[0m\r",
      "\u001b[2K     \u001b[90m━━━━━━━━━━━━━━━━━━━━━━━━━━━━━━━━━━━━━━━━\u001b[0m \u001b[32m6.0/6.0 MB\u001b[0m \u001b[31m28.3 MB/s\u001b[0m eta \u001b[36m0:00:00\u001b[0m\n",
      "\u001b[?25h"
     ]
    }
   ],
   "source": [
    "!pip install -U tensorflow-text --quiet"
   ]
  },
  {
   "cell_type": "markdown",
   "metadata": {
    "id": "L-4vXVxKMlnQ"
   },
   "source": [
    "pydot is also required, along with **graphviz**."
   ]
  },
  {
   "cell_type": "code",
   "execution_count": 4,
   "metadata": {
    "id": "SbN0SnpZMlnQ"
   },
   "outputs": [],
   "source": [
    "!pip install pydot --quiet"
   ]
  },
  {
   "cell_type": "markdown",
   "metadata": {
    "id": "c3fGCI9BMlnQ"
   },
   "source": [
    "Ready to do the imports."
   ]
  },
  {
   "cell_type": "code",
   "execution_count": 5,
   "metadata": {
    "id": "ju4oXKFYMlnQ"
   },
   "outputs": [],
   "source": [
    "import numpy as np\n",
    "import tensorflow as tf\n",
    "from tensorflow import keras\n",
    "\n",
    "from tensorflow.keras.layers import Embedding, Input, Dense, Lambda\n",
    "from tensorflow.keras.models import Model\n",
    "import tensorflow.keras.backend as K\n",
    "import tensorflow_datasets as tfds\n",
    "import tensorflow_text as tf_text\n",
    "\n",
    "import sklearn as sk\n",
    "import os\n",
    "import nltk\n",
    "from nltk.data import find\n",
    "\n",
    "import matplotlib.pyplot as plt\n",
    "\n",
    "import re\n",
    "\n",
    "\n",
    "import gensim\n",
    "from gensim.models import Word2Vec\n",
    "from gensim.models import KeyedVectors\n",
    "from gensim.test.utils import datapath"
   ]
  },
  {
   "cell_type": "markdown",
   "metadata": {
    "id": "FuoGw0MdMlnR"
   },
   "source": [
    "Below is a helper function to plot histories."
   ]
  },
  {
   "cell_type": "code",
   "execution_count": 6,
   "metadata": {
    "id": "qvJ4iSOfNKmE"
   },
   "outputs": [],
   "source": [
    "# 4-window plot of loss and accuracy for two models, for comparison\n",
    "\n",
    "def make_plot(axs,\n",
    "              model_history1, \n",
    "              model_history2, \n",
    "              model_1_name='model 1',\n",
    "              model_2_name='model 2',\n",
    "              ):\n",
    "    box = dict(facecolor='yellow', pad=5, alpha=0.2)\n",
    "\n",
    "    for i, metric in enumerate(['loss', 'accuracy']):\n",
    "        y_lim_lower1 = np.min(model_history1.history[metric])\n",
    "        y_lim_lower2 = np.min(model_history2.history[metric])\n",
    "        y_lim_lower = min(y_lim_lower1, y_lim_lower2) * 0.9\n",
    "\n",
    "        y_lim_upper1 = np.max(model_history1.history[metric])\n",
    "        y_lim_upper2 = np.max(model_history2.history[metric])\n",
    "        y_lim_upper = max(y_lim_upper1, y_lim_upper2) * 1.1\n",
    "\n",
    "        for j, model_history in enumerate([model_history1, model_history2]):\n",
    "            model_name = [model_1_name, model_2_name][j]\n",
    "            ax1 = axs[i, j]\n",
    "            ax1.plot(model_history.history[metric])\n",
    "            ax1.plot(model_history.history['val_%s' % metric])\n",
    "            ax1.set_title('%s - %s' % (metric, model_name))\n",
    "            ax1.set_ylabel(metric, bbox=box)\n",
    "            ax1.set_ylim(y_lim_lower, y_lim_upper)"
   ]
  },
  {
   "cell_type": "markdown",
   "metadata": {
    "id": "OXGeoMS-MlnS"
   },
   "source": [
    "Next, we get the word2vec model from nltk."
   ]
  },
  {
   "cell_type": "code",
   "execution_count": 7,
   "metadata": {
    "colab": {
     "base_uri": "https://localhost:8080/"
    },
    "id": "h5wOh6KbMlnS",
    "outputId": "189dade8-687a-4312-b5e4-810d43c8242d"
   },
   "outputs": [
    {
     "name": "stderr",
     "output_type": "stream",
     "text": [
      "[nltk_data] Downloading package word2vec_sample to /root/nltk_data...\n",
      "[nltk_data]   Unzipping models/word2vec_sample.zip.\n"
     ]
    },
    {
     "data": {
      "text/plain": [
       "True"
      ]
     },
     "execution_count": 7,
     "metadata": {},
     "output_type": "execute_result"
    }
   ],
   "source": [
    "nltk.download('word2vec_sample')"
   ]
  },
  {
   "cell_type": "code",
   "execution_count": 8,
   "metadata": {
    "id": "9VySoBJYMlnS"
   },
   "outputs": [],
   "source": [
    "word2vec_sample = str(find('models/word2vec_sample/pruned.word2vec.txt'))"
   ]
  },
  {
   "cell_type": "code",
   "execution_count": 9,
   "metadata": {
    "id": "ZvvhhTYgMlnS"
   },
   "outputs": [],
   "source": [
    "model = KeyedVectors.load_word2vec_format(datapath(word2vec_sample), binary=False)"
   ]
  },
  {
   "cell_type": "markdown",
   "metadata": {
    "id": "uvcUmdy3MlnS"
   },
   "source": [
    "How many words are in the vocabulary?"
   ]
  },
  {
   "cell_type": "code",
   "execution_count": 10,
   "metadata": {
    "colab": {
     "base_uri": "https://localhost:8080/"
    },
    "id": "Vao1xmYvMlnS",
    "outputId": "bf58db9c-ef8f-4d0d-ef87-bb175bb9d427"
   },
   "outputs": [
    {
     "data": {
      "text/plain": [
       "43981"
      ]
     },
     "execution_count": 10,
     "metadata": {},
     "output_type": "execute_result"
    }
   ],
   "source": [
    "len(model)"
   ]
  },
  {
   "cell_type": "markdown",
   "metadata": {
    "id": "PcSVLgxZMlnT"
   },
   "source": [
    "How do the word vectors look like? As expected:"
   ]
  },
  {
   "cell_type": "code",
   "execution_count": 11,
   "metadata": {
    "colab": {
     "base_uri": "https://localhost:8080/"
    },
    "id": "8XIi_ZhUMlnT",
    "outputId": "87fa2341-974f-46cc-e0c8-fe9e6db32849"
   },
   "outputs": [
    {
     "data": {
      "text/plain": [
       "array([ 3.06035e-02,  8.86877e-02, -1.21269e-02,  7.61965e-02,\n",
       "        5.66269e-02, -4.24702e-02,  4.10129e-02, -4.97567e-02,\n",
       "       -3.64328e-03,  6.32889e-02, -1.42608e-02, -7.91111e-02,\n",
       "        1.74877e-02, -3.83064e-02,  9.26433e-03,  2.95626e-02,\n",
       "        7.70293e-02,  9.49334e-02, -4.28866e-02, -2.95626e-02,\n",
       "        4.45244e-05,  6.82854e-02,  1.73836e-02,  3.14363e-02,\n",
       "        6.53708e-02,  2.89380e-02, -4.39275e-02,  1.78000e-02,\n",
       "        1.82164e-02, -4.70503e-02, -2.85216e-02,  1.79041e-02,\n",
       "        1.06592e-01,  9.07696e-02,  6.78690e-02,  6.16755e-03,\n",
       "       -2.08187e-02,  5.95936e-03,  1.51586e-03,  8.95205e-02,\n",
       "        6.49544e-02, -3.12281e-02,  9.24351e-02, -2.45661e-02,\n",
       "       -1.21269e-02, -1.53538e-03,  6.49544e-02, -1.12421e-02,\n",
       "        9.10819e-03, -6.45380e-02,  4.43439e-02,  1.35738e-01,\n",
       "       -7.91111e-02,  1.57181e-02, -4.72585e-02, -1.35322e-02,\n",
       "       -4.33029e-02, -5.16304e-02,  1.37404e-01, -3.12281e-02,\n",
       "       -6.49544e-02,  1.14087e-01, -6.41217e-02, -5.24632e-02,\n",
       "        4.60094e-02,  2.85216e-02, -9.10819e-03, -4.28866e-02,\n",
       "       -8.74386e-02,  5.01731e-02,  2.62316e-02,  2.89380e-02,\n",
       "        4.55930e-02, -3.28936e-02, -6.49544e-02, -1.80863e-03,\n",
       "       -6.20398e-02,  1.08257e-01,  2.05064e-02,  4.14293e-02,\n",
       "       -3.56521e-03,  4.80912e-02,  2.27965e-02,  7.65088e-03,\n",
       "       -2.40456e-02, -1.40735e-01, -4.16374e-02,  6.07907e-02,\n",
       "       -5.87088e-02,  9.42047e-03,  4.26784e-02, -2.43579e-02,\n",
       "       -6.66199e-02, -2.71945e-03, -3.99719e-02, -1.99860e-02,\n",
       "        3.66409e-02,  1.30742e-01, -4.74667e-02, -8.28585e-02,\n",
       "       -8.86877e-02,  3.45591e-02, -1.79041e-02, -3.53918e-02,\n",
       "       -4.43439e-02,  1.24912e-01,  1.02012e-02, -1.64468e-02,\n",
       "        1.51977e-02, -4.47602e-02, -2.78971e-02,  1.19083e-01,\n",
       "       -4.95486e-02, -6.21959e-03,  1.64052e-01, -3.33099e-02,\n",
       "       -1.24912e-02, -5.78760e-02, -2.30047e-02, -2.34211e-02,\n",
       "       -3.45591e-02, -1.22830e-02,  3.56000e-02,  1.16585e-01,\n",
       "       -2.64398e-02, -2.04023e-02, -4.65819e-03, -4.85076e-02,\n",
       "       -4.68421e-02,  8.61895e-02, -5.49614e-02, -2.85216e-02,\n",
       "       -1.14087e-01,  4.10129e-02,  4.43439e-02, -7.24491e-02,\n",
       "        2.37333e-02,  6.57872e-02,  3.43509e-02,  9.36842e-02,\n",
       "       -9.70152e-02,  4.70503e-02, -3.46111e-03, -2.40456e-02,\n",
       "       -3.85146e-02, -3.31018e-02, -1.54059e-02,  1.54059e-02,\n",
       "        6.74526e-02, -6.66199e-02,  9.65989e-02,  1.21581e-01,\n",
       "       -2.35252e-02,  1.50728e-01, -5.14222e-02,  4.51766e-02,\n",
       "        1.32719e-02, -8.16094e-02, -9.86807e-02, -4.76749e-02,\n",
       "        1.01491e-03,  3.20608e-02, -5.49094e-03,  4.28866e-02,\n",
       "        1.89867e-01, -1.18250e-01,  2.85216e-02, -3.45591e-02,\n",
       "        2.72725e-02,  7.91111e-03, -4.74667e-02,  4.16374e-02,\n",
       "        8.78550e-02, -5.57942e-02,  1.02012e-02,  4.72585e-02,\n",
       "        3.43509e-02, -6.49544e-02,  2.06886e-03,  7.85907e-03,\n",
       "       -3.91392e-02, -1.02844e-01,  3.58082e-02, -4.28866e-02,\n",
       "       -6.57872e-02,  1.17626e-02, -6.99509e-02, -4.33029e-02,\n",
       "       -2.58933e-03,  5.69262e-04, -1.08257e-01,  1.34073e-01,\n",
       "        5.62105e-02, -5.62105e-02,  9.26433e-03, -6.66199e-02,\n",
       "       -6.24562e-02, -2.18597e-02, -5.14222e-02, -9.20187e-02,\n",
       "        1.32199e-02,  5.57942e-02,  4.14293e-02,  2.42018e-03,\n",
       "        9.42047e-03,  5.41287e-02, -5.30877e-03,  2.62316e-02,\n",
       "       -9.52456e-03,  1.06592e-01, -3.06035e-02,  6.74526e-02,\n",
       "       -3.10199e-02,  8.43158e-03,  3.77339e-03, -3.87228e-02,\n",
       "        1.54891e-01, -3.85146e-02,  1.03053e-02, -5.95936e-03,\n",
       "       -2.17556e-02,  1.02532e-02,  2.51126e-03, -4.35111e-02,\n",
       "       -3.77339e-03,  1.30117e-02, -3.33099e-02, -5.45450e-02,\n",
       "        1.64468e-02,  1.22310e-02, -9.74316e-02, -5.33480e-03,\n",
       "        6.57872e-02,  3.89310e-02,  4.49684e-02, -2.74807e-02,\n",
       "       -5.49614e-02, -4.35111e-02, -9.21228e-03, -1.40526e-02,\n",
       "        3.18526e-02,  1.61345e-02,  3.16445e-02, -5.28275e-03,\n",
       "       -1.99860e-02,  2.08187e-03,  4.41357e-02, -3.70573e-02,\n",
       "       -9.65989e-02, -1.08257e-01,  1.53018e-02,  1.89867e-01,\n",
       "        2.37333e-02,  6.78690e-02,  1.15752e-01, -4.62176e-02,\n",
       "        2.66480e-02, -2.38374e-02, -1.06592e-01, -6.62035e-02,\n",
       "       -2.91462e-02, -5.95415e-02, -6.78690e-02, -7.65088e-03,\n",
       "        9.05614e-03,  3.14363e-02,  5.57942e-02, -3.43509e-02,\n",
       "        1.27515e-02,  6.63597e-03, -7.07836e-02,  6.41217e-02,\n",
       "       -2.88860e-03,  4.31988e-03,  4.89240e-02, -6.32889e-02,\n",
       "       -1.95696e-02, -5.95415e-02, -7.41146e-02, -1.82164e-02,\n",
       "       -2.47743e-02,  2.22760e-02, -4.74667e-02,  3.60164e-02,\n",
       "       -1.08778e-02,  5.99579e-02, -7.74456e-02,  7.33860e-03,\n",
       "       -5.87088e-02, -6.29766e-03, -4.89240e-03,  2.74807e-02,\n",
       "       -1.23247e-01, -2.05064e-02, -8.49404e-02, -3.03953e-02,\n",
       "        2.74807e-02, -7.16164e-02, -8.90000e-03, -6.07907e-02],\n",
       "      dtype=float32)"
      ]
     },
     "execution_count": 11,
     "metadata": {},
     "output_type": "execute_result"
    }
   ],
   "source": [
    "model['great']"
   ]
  },
  {
   "cell_type": "markdown",
   "metadata": {
    "id": "a--OJlw_MlnT"
   },
   "source": [
    "We can now build the embedding matrix and a vocabulary dictionary:"
   ]
  },
  {
   "cell_type": "code",
   "execution_count": 12,
   "metadata": {
    "id": "DvrOdsOcMlnT"
   },
   "outputs": [],
   "source": [
    "EMBEDDING_DIM = len(model['university'])      # we know... it's 300\n",
    "\n",
    "# initialize embedding matrix and word-to-id map:  \n",
    "embedding_matrix = np.zeros((len(model) + 1, EMBEDDING_DIM))  \n",
    "vocab_dict = {}\n",
    "\n",
    "# build the embedding matrix and the word-to-id map:\n",
    "for i, word in enumerate(model.index_to_key):\n",
    "    embedding_vector = model[word]\n",
    "\n",
    "    if embedding_vector is not None:\n",
    "        # words not found in embedding index will be all-zeros.\n",
    "        embedding_matrix[i] = embedding_vector\n",
    "        vocab_dict[word] = i\n",
    "\n",
    "# we can use the last index at the end of the vocab for unknown tokens\n",
    "vocab_dict['[UNK]'] = len(vocab_dict)"
   ]
  },
  {
   "cell_type": "code",
   "execution_count": 13,
   "metadata": {
    "colab": {
     "base_uri": "https://localhost:8080/"
    },
    "id": "19YExA5rMlnT",
    "outputId": "bb258bee-dc64-4f3d-a436-b5a78a72c0a0"
   },
   "outputs": [
    {
     "data": {
      "text/plain": [
       "(43982, 300)"
      ]
     },
     "execution_count": 13,
     "metadata": {},
     "output_type": "execute_result"
    }
   ],
   "source": [
    "embedding_matrix.shape"
   ]
  },
  {
   "cell_type": "code",
   "execution_count": 14,
   "metadata": {
    "colab": {
     "base_uri": "https://localhost:8080/"
    },
    "id": "lJ9M8iJfUQyZ",
    "outputId": "86de86f9-05ba-4c03-d5bc-59dd42035c82"
   },
   "outputs": [
    {
     "data": {
      "text/plain": [
       "array([[ 0.0891758 ,  0.121832  , -0.0671959 ,  0.0477279 , -0.013659  ],\n",
       "       [ 0.0526281 ,  0.013157  , -0.010104  ,  0.0540819 ,  0.0386715 ],\n",
       "       [ 0.0786419 ,  0.0373911 , -0.0131472 ,  0.0347375 ,  0.0288273 ],\n",
       "       [-0.00157585, -0.0564239 ,  0.00320281,  0.0422498 ,  0.15264399],\n",
       "       [ 0.0356899 , -0.00367283, -0.065534  ,  0.0213832 ,  0.00788408]])"
      ]
     },
     "execution_count": 14,
     "metadata": {},
     "output_type": "execute_result"
    }
   ],
   "source": [
    "embedding_matrix[:5, :5]"
   ]
  },
  {
   "cell_type": "markdown",
   "metadata": {
    "id": "7Sc3vGORMlnT"
   },
   "source": [
    "[Return to Top](#returnToTop)  \n",
    "<a id = 'creationOfDataset'></a>\n",
    "## 2. Creation of the Dataset\n",
    "\n",
    "### 2.1 Data Acquisition\n",
    "\n",
    "We will use the IMDB dataset delivered as part of the tensorflow-datasets library, and split into training and test sets. For expedience, we will limit ourselves in terms of train and test examples."
   ]
  },
  {
   "cell_type": "code",
   "execution_count": 15,
   "metadata": {
    "colab": {
     "base_uri": "https://localhost:8080/",
     "height": 138,
     "referenced_widgets": [
      "c46b9aa4217b48cdb85aafec7a7ffbb3",
      "1d4b70741340447bab77375d3d39fdbd",
      "5d974c61242641d4a82db3c8a482b778",
      "83bdbc0c84d64a818592f38784cc3fc7",
      "42878d729ada423185f2f0404cd112b5",
      "aed3e8a077f24994a9ed0a329085b4e8",
      "d9d05408d80443f0830e6d5475875157",
      "2f0a7b75aafb4142b944e3c0b66e420a",
      "9f0187ea5ed141489ac5e25edef362a4",
      "5b9886dccefb4f0c89a96ab02e448d09",
      "03c7b74ae40a42df85074cf9f035ef18",
      "5d7bb8069eb04d15ac817ae951d61ae6",
      "7ab8a4db2f1b444fbcfcd3466192689a",
      "bddaab3a79b5463195823d6797e87382",
      "853fcb2221584d5085cc90f56da4fd6b",
      "bce7ad880fa5457ba101bed1d13b2296",
      "ec7365a68e44498e8e99ae8c375fe25c",
      "38bb6ce3b0264ffd8b5adfb143831b7f",
      "f00be5cb3fd8405db2231443017e2736",
      "13aed20090814058bd274504863ef0c6",
      "087c31432e064b64b26e7f3f47efdef0",
      "22d28bc8ec6e44a88746b3c3c6a01c91",
      "e1506961a225407394bb4d93c4370373",
      "12d8b41e1a2f491886becff971cc40d0",
      "90117682d8c14b64a7997e2bbe8e69ec",
      "1d939c70509642d98b9062bdbb85e98f",
      "2a00d7e8c8684547ab1b469b7820f820",
      "4f9543a19e9c478bafc15ff32c225069",
      "f560424493c2472792acac2d3651cde2",
      "68e75cd66cbf4bcc92355aabd74cb3be",
      "e32fd5d9bd044d5a8cf208c647a35573",
      "382151627373427dbdfbc098df1f0991",
      "f2a5c389293247c58440e9c928fbbfe8",
      "73dc008f48fe4045ae996856ee339819",
      "70ae516c67664873adbde43b557a3983",
      "799a944eef5e4dbb9a395bc428de3889",
      "96ec9ca477b14c67977431c50fa8d05c",
      "52182ca6e4ac466a9c3a9728dd8689a5",
      "4ed79b8f7693453080abf6892f1f4dc4",
      "431976ea77ed4198a7653ca99b21dc67",
      "edb786f9b0184a8eb6e7af614042ba61",
      "9bb383c4c8f847f18d2eff126c075b1f",
      "e5483b2ffa7543dea7240e43f76f4b8c",
      "09b94bc03c554c5b9ec82fa93fa3924b",
      "5aaddcbcd94f4994abf4c5d126d46783",
      "e60ef685d9704ea8a7313e7ca2a8ab0b",
      "b472656ca670415f85071aafd5088811",
      "51b20c3cab794e02bfe60983245fd8a5",
      "d7f8c7e0b8ec4a90ade1d42f0cd776a2",
      "44bbd73fdc9441d89731fc839e840f97",
      "cba1be8584ee4e54bb6a1615899cfe26",
      "4e8990a41b0247b499c6204b66e66540",
      "1f041d57052441edb6eef999c3f69f67",
      "89a5cc73cbbe4bd592f80e7bab9a1809",
      "c975c54a0303471189b9f7a1a64feaa5",
      "6ea3527ced334f509896edaf4403f1d1",
      "6ed9622e26cf4eeabe4fae3a002cb270",
      "ebcd1e9b7d094fa49a70aa1ab649a32c",
      "df5681a89cd54ac4af64dc8dfaefd52b",
      "56c421a004b14f12a36264abd6520a2d",
      "df77d80ffd7940b593cbb5c21e458844",
      "ff4fbf2224f64e18b65370d47c14e922",
      "0c320e24735542759a1fa7d0d361723b",
      "8f5d3f787e0247b9bda39995a64ac529",
      "87220eb76ef2461383db0e0cb6498068",
      "86a29e171b394561aa3d881b50e98b19",
      "278fd99c4b63480a9c24db365d6fec94",
      "2754a9c05eb542b3a6698e34eb0a6735",
      "2568f2c852e1472a829512567762c315",
      "b374d3c2e3564a9b8258367fd328d154",
      "7c8474a9016c4dd7a7b972734988854c",
      "df57b91e09214bf4a3c3cbb91bcd5803",
      "30fd7459e25a4664a85f906a67c7ece6",
      "4cadf5b54c2d423ab1314e92074add31",
      "5fc12968a57f428e89245de6d160a860",
      "5161f0962f844b10bd435d165d7f2f26",
      "dbda7bf6eacf4d76a146efc5838eb88e",
      "ecc62c33f56c4dbbbde9a9580c2e6f85",
      "ccf6ebc9fe2143b9ba9d38b1711a4dee",
      "29296ecc632548fe91fc5183c5220e03",
      "b6d1906a52054c8bacb7b062772aedf5",
      "11152baab1fc4191899dc41b21cc2dac",
      "63344e55c29247ec8c6063dca928fa5f",
      "aca53551fcb54956b500c1a6da6265cd",
      "6925b231ddd94ceab69eaa0cdd22a83f",
      "d163aaaa0df54fec8f9ef66356c4d10b",
      "0dd64f13251043c6961ea581a96ef67c",
      "e6963580481f4b86a759db7982b3b769",
      "12428bceeb0244c682124fe43dba3780",
      "3ca920e2ea8e47c2885c757847f71bbe",
      "fed9d10708d6457c85110d1c96fd57d7",
      "295cb1365ae147798716fd4627ff83c8",
      "8a59b23ff2994258b9c03522b64f2525",
      "30bdb013a2214017b290baaeb53af5f0",
      "7e197675f9964e29b4edf08881b4aeeb",
      "732661c92bac4075bf9b4f1f1934ea7f",
      "463c852d7b134831a86233b1e12851ed",
      "223352a22ac947128057b923193102e9",
      "a4bb283ce71d4117bf3e821dfdee4ebe"
     ]
    },
    "id": "_a5rAWnuMlnT",
    "outputId": "b4481391-124e-4637-cb79-96e9f469135d"
   },
   "outputs": [
    {
     "name": "stdout",
     "output_type": "stream",
     "text": [
      "Downloading and preparing dataset 80.23 MiB (download: 80.23 MiB, generated: Unknown size, total: 80.23 MiB) to /root/tensorflow_datasets/imdb_reviews/plain_text/1.0.0...\n"
     ]
    },
    {
     "data": {
      "application/vnd.jupyter.widget-view+json": {
       "model_id": "c46b9aa4217b48cdb85aafec7a7ffbb3",
       "version_major": 2,
       "version_minor": 0
      },
      "text/plain": [
       "Dl Completed...: 0 url [00:00, ? url/s]"
      ]
     },
     "metadata": {},
     "output_type": "display_data"
    },
    {
     "data": {
      "application/vnd.jupyter.widget-view+json": {
       "model_id": "5d7bb8069eb04d15ac817ae951d61ae6",
       "version_major": 2,
       "version_minor": 0
      },
      "text/plain": [
       "Dl Size...: 0 MiB [00:00, ? MiB/s]"
      ]
     },
     "metadata": {},
     "output_type": "display_data"
    },
    {
     "data": {
      "application/vnd.jupyter.widget-view+json": {
       "model_id": "e1506961a225407394bb4d93c4370373",
       "version_major": 2,
       "version_minor": 0
      },
      "text/plain": [
       "Generating splits...:   0%|          | 0/3 [00:00<?, ? splits/s]"
      ]
     },
     "metadata": {},
     "output_type": "display_data"
    },
    {
     "data": {
      "application/vnd.jupyter.widget-view+json": {
       "model_id": "73dc008f48fe4045ae996856ee339819",
       "version_major": 2,
       "version_minor": 0
      },
      "text/plain": [
       "Generating train examples...:   0%|          | 0/25000 [00:00<?, ? examples/s]"
      ]
     },
     "metadata": {},
     "output_type": "display_data"
    },
    {
     "data": {
      "application/vnd.jupyter.widget-view+json": {
       "model_id": "5aaddcbcd94f4994abf4c5d126d46783",
       "version_major": 2,
       "version_minor": 0
      },
      "text/plain": [
       "Shuffling /root/tensorflow_datasets/imdb_reviews/plain_text/1.0.0.incompleteXLEBBH/imdb_reviews-train.tfrecord…"
      ]
     },
     "metadata": {},
     "output_type": "display_data"
    },
    {
     "data": {
      "application/vnd.jupyter.widget-view+json": {
       "model_id": "6ea3527ced334f509896edaf4403f1d1",
       "version_major": 2,
       "version_minor": 0
      },
      "text/plain": [
       "Generating test examples...:   0%|          | 0/25000 [00:00<?, ? examples/s]"
      ]
     },
     "metadata": {},
     "output_type": "display_data"
    },
    {
     "data": {
      "application/vnd.jupyter.widget-view+json": {
       "model_id": "278fd99c4b63480a9c24db365d6fec94",
       "version_major": 2,
       "version_minor": 0
      },
      "text/plain": [
       "Shuffling /root/tensorflow_datasets/imdb_reviews/plain_text/1.0.0.incompleteXLEBBH/imdb_reviews-test.tfrecord*…"
      ]
     },
     "metadata": {},
     "output_type": "display_data"
    },
    {
     "data": {
      "application/vnd.jupyter.widget-view+json": {
       "model_id": "ecc62c33f56c4dbbbde9a9580c2e6f85",
       "version_major": 2,
       "version_minor": 0
      },
      "text/plain": [
       "Generating unsupervised examples...:   0%|          | 0/50000 [00:00<?, ? examples/s]"
      ]
     },
     "metadata": {},
     "output_type": "display_data"
    },
    {
     "data": {
      "application/vnd.jupyter.widget-view+json": {
       "model_id": "12428bceeb0244c682124fe43dba3780",
       "version_major": 2,
       "version_minor": 0
      },
      "text/plain": [
       "Shuffling /root/tensorflow_datasets/imdb_reviews/plain_text/1.0.0.incompleteXLEBBH/imdb_reviews-unsupervised.t…"
      ]
     },
     "metadata": {},
     "output_type": "display_data"
    },
    {
     "name": "stdout",
     "output_type": "stream",
     "text": [
      "Dataset imdb_reviews downloaded and prepared to /root/tensorflow_datasets/imdb_reviews/plain_text/1.0.0. Subsequent calls will reuse this data.\n"
     ]
    }
   ],
   "source": [
    "train_data, test_data = tfds.load(\n",
    "    name=\"imdb_reviews\", \n",
    "    split=('train[:80%]', 'test[80%:]'),\n",
    "    as_supervised=True)"
   ]
  },
  {
   "cell_type": "code",
   "execution_count": 16,
   "metadata": {
    "id": "2rwgO27KMlnT"
   },
   "outputs": [],
   "source": [
    "train_examples, train_labels = next(iter(train_data.batch(20000)))\n",
    "test_examples, test_labels = next(iter(test_data.batch(5000)))"
   ]
  },
  {
   "cell_type": "code",
   "execution_count": 17,
   "metadata": {
    "colab": {
     "base_uri": "https://localhost:8080/"
    },
    "id": "U8Rz5vdRMlnT",
    "outputId": "e6caabec-6272-433b-a06f-71b3207b51ee"
   },
   "outputs": [
    {
     "data": {
      "text/plain": [
       "<tf.Tensor: shape=(4,), dtype=string, numpy=\n",
       "array([b\"This was an absolutely terrible movie. Don't be lured in by Christopher Walken or Michael Ironside. Both are great actors, but this must simply be their worst role in history. Even their great acting could not redeem this movie's ridiculous storyline. This movie is an early nineties US propaganda piece. The most pathetic scenes were those when the Columbian rebels were making their cases for revolutions. Maria Conchita Alonso appeared phony, and her pseudo-love affair with Walken was nothing but a pathetic emotional plug in a movie that was devoid of any real meaning. I am disappointed that there are movies like this, ruining actor's like Christopher Walken's good name. I could barely sit through it.\",\n",
       "       b'I have been known to fall asleep during films, but this is usually due to a combination of things including, really tired, being warm and comfortable on the sette and having just eaten a lot. However on this occasion I fell asleep because the film was rubbish. The plot development was constant. Constantly slow and boring. Things seemed to happen, but with no explanation of what was causing them or why. I admit, I may have missed part of the film, but i watched the majority of it and everything just seemed to happen of its own accord without any real concern for anything else. I cant recommend this film at all.',\n",
       "       b'Mann photographs the Alberta Rocky Mountains in a superb fashion, and Jimmy Stewart and Walter Brennan give enjoyable performances as they always seem to do. <br /><br />But come on Hollywood - a Mountie telling the people of Dawson City, Yukon to elect themselves a marshal (yes a marshal!) and to enforce the law themselves, then gunfighters battling it out on the streets for control of the town? <br /><br />Nothing even remotely resembling that happened on the Canadian side of the border during the Klondike gold rush. Mr. Mann and company appear to have mistaken Dawson City for Deadwood, the Canadian North for the American Wild West.<br /><br />Canadian viewers be prepared for a Reefer Madness type of enjoyable howl with this ludicrous plot, or, to shake your head in disgust.',\n",
       "       b'This is the kind of film for a snowy Sunday afternoon when the rest of the world can go ahead with its own business as you descend into a big arm-chair and mellow for a couple of hours. Wonderful performances from Cher and Nicolas Cage (as always) gently row the plot along. There are no rapids to cross, no dangerous waters, just a warm and witty paddle through New York life at its best. A family film in every sense and one that deserves the praise it received.'],\n",
       "      dtype=object)>"
      ]
     },
     "execution_count": 17,
     "metadata": {},
     "output_type": "execute_result"
    }
   ],
   "source": [
    "train_examples[:4]"
   ]
  },
  {
   "cell_type": "code",
   "execution_count": 18,
   "metadata": {
    "colab": {
     "base_uri": "https://localhost:8080/"
    },
    "id": "d9sE7RYoMlnT",
    "outputId": "f92a077f-970f-4b92-fc84-435dd5727240"
   },
   "outputs": [
    {
     "data": {
      "text/plain": [
       "<tf.Tensor: shape=(4,), dtype=int64, numpy=array([0, 0, 0, 1])>"
      ]
     },
     "execution_count": 18,
     "metadata": {},
     "output_type": "execute_result"
    }
   ],
   "source": [
    "train_labels[:4]"
   ]
  },
  {
   "cell_type": "markdown",
   "metadata": {
    "id": "pkasJbOpMlnU"
   },
   "source": [
    "Next, we tokenize the data:"
   ]
  },
  {
   "cell_type": "code",
   "execution_count": 19,
   "metadata": {
    "id": "AsJVAaCXMlnU"
   },
   "outputs": [],
   "source": [
    "tokenizer = tf_text.WhitespaceTokenizer()\n",
    "train_tokens = tokenizer.tokenize(train_examples)\n",
    "test_tokens = tokenizer.tokenize(test_examples)"
   ]
  },
  {
   "cell_type": "markdown",
   "metadata": {
    "id": "_8fiq7WVMlnU"
   },
   "source": [
    "Does this look right?"
   ]
  },
  {
   "cell_type": "code",
   "execution_count": 20,
   "metadata": {
    "colab": {
     "base_uri": "https://localhost:8080/"
    },
    "id": "XfWbd8UPMlnU",
    "outputId": "0d8aa013-74f4-406e-ccf2-37f1ba575f7d"
   },
   "outputs": [
    {
     "data": {
      "text/plain": [
       "<tf.Tensor: shape=(116,), dtype=string, numpy=\n",
       "array([b'This', b'was', b'an', b'absolutely', b'terrible', b'movie.',\n",
       "       b\"Don't\", b'be', b'lured', b'in', b'by', b'Christopher', b'Walken',\n",
       "       b'or', b'Michael', b'Ironside.', b'Both', b'are', b'great',\n",
       "       b'actors,', b'but', b'this', b'must', b'simply', b'be', b'their',\n",
       "       b'worst', b'role', b'in', b'history.', b'Even', b'their', b'great',\n",
       "       b'acting', b'could', b'not', b'redeem', b'this', b\"movie's\",\n",
       "       b'ridiculous', b'storyline.', b'This', b'movie', b'is', b'an',\n",
       "       b'early', b'nineties', b'US', b'propaganda', b'piece.', b'The',\n",
       "       b'most', b'pathetic', b'scenes', b'were', b'those', b'when',\n",
       "       b'the', b'Columbian', b'rebels', b'were', b'making', b'their',\n",
       "       b'cases', b'for', b'revolutions.', b'Maria', b'Conchita',\n",
       "       b'Alonso', b'appeared', b'phony,', b'and', b'her', b'pseudo-love',\n",
       "       b'affair', b'with', b'Walken', b'was', b'nothing', b'but', b'a',\n",
       "       b'pathetic', b'emotional', b'plug', b'in', b'a', b'movie', b'that',\n",
       "       b'was', b'devoid', b'of', b'any', b'real', b'meaning.', b'I',\n",
       "       b'am', b'disappointed', b'that', b'there', b'are', b'movies',\n",
       "       b'like', b'this,', b'ruining', b\"actor's\", b'like', b'Christopher',\n",
       "       b\"Walken's\", b'good', b'name.', b'I', b'could', b'barely', b'sit',\n",
       "       b'through', b'it.'], dtype=object)>"
      ]
     },
     "execution_count": 20,
     "metadata": {},
     "output_type": "execute_result"
    }
   ],
   "source": [
    "train_tokens[0]"
   ]
  },
  {
   "cell_type": "markdown",
   "metadata": {
    "id": "9qvhRJ2HMlnU"
   },
   "source": [
    "Yup... looks right. Of course we will need to take care of the encoding later."
   ]
  },
  {
   "cell_type": "markdown",
   "metadata": {
    "id": "bY4nDQaoMlnU"
   },
   "source": [
    "### 2.2 Data Preparation\n",
    "\n",
    "For the models we will use, we need to define a maximum sequence length (max number of tokens per movie review that we'll feed into our model). We'll cut off any tokens longer than that, and we'll pad shorter movie reviews with zeros at the end."
   ]
  },
  {
   "cell_type": "code",
   "execution_count": 21,
   "metadata": {
    "id": "CmHtHIw-MlnU"
   },
   "outputs": [],
   "source": [
    "MAX_SEQUENCE_LENGTH = 128"
   ]
  },
  {
   "cell_type": "markdown",
   "metadata": {
    "id": "bPJ6awp2MlnU"
   },
   "source": [
    "Next, we define a simple function that converts the tokens of each movie review into their word2vec vocabulary index values.   "
   ]
  },
  {
   "cell_type": "code",
   "execution_count": 22,
   "metadata": {
    "id": "O2wWKarvMlnU"
   },
   "outputs": [],
   "source": [
    "def docs_to_vocab_ids(tokenized_texts_list):\n",
    "    \"\"\"\n",
    "    converting a list of strings to a list of lists of word ids\n",
    "    \"\"\"\n",
    "    texts_vocab_ids = []\n",
    "    for i, token_list in enumerate(tokenized_texts_list):\n",
    "\n",
    "        # Get the vocab id for each token in this doc ([UNK] if not in vocab)\n",
    "        vocab_ids = []\n",
    "        for token in list(token_list.numpy()):\n",
    "            decoded = token.decode('utf-8', errors='ignore')\n",
    "            if decoded in vocab_dict:\n",
    "                vocab_ids.append(vocab_dict[decoded])\n",
    "            else:\n",
    "                vocab_ids.append(vocab_dict['[UNK]'])\n",
    "            \n",
    "        # Truncate text to max length, add padding up to max length\n",
    "        vocab_ids = vocab_ids[:MAX_SEQUENCE_LENGTH]\n",
    "        n_padding = (MAX_SEQUENCE_LENGTH - len(vocab_ids))\n",
    "        # For simplicity in this model, we'll just pad with uknown tokens\n",
    "        vocab_ids += [vocab_dict['[UNK]']] * n_padding\n",
    "\n",
    "        # Add this example to the list of converted docs\n",
    "        texts_vocab_ids.append(vocab_ids)\n",
    "            \n",
    "        if i % 5000 == 0:\n",
    "            print('Examples processed: ', i)\n",
    "        \n",
    "    print('Total examples: ', i)\n",
    "\n",
    "    return np.array(texts_vocab_ids)"
   ]
  },
  {
   "cell_type": "markdown",
   "metadata": {
    "id": "Tpt4_70BMlnU"
   },
   "source": [
    "Now we can create training and test data that can be fed into the models of interest."
   ]
  },
  {
   "cell_type": "code",
   "execution_count": 23,
   "metadata": {
    "colab": {
     "base_uri": "https://localhost:8080/"
    },
    "id": "J9m_pOqVMlnU",
    "outputId": "31475aed-b99d-4217-c7d4-4692718609f0"
   },
   "outputs": [
    {
     "name": "stdout",
     "output_type": "stream",
     "text": [
      "Examples processed:  0\n",
      "Examples processed:  5000\n",
      "Examples processed:  10000\n",
      "Examples processed:  15000\n",
      "Total examples:  19999\n",
      "Examples processed:  0\n",
      "Total examples:  4999\n"
     ]
    }
   ],
   "source": [
    "train_input = docs_to_vocab_ids(train_tokens)\n",
    "test_input = docs_to_vocab_ids(test_tokens)\n",
    "\n",
    "train_labels = np.array(train_labels)\n",
    "test_labels = np.array(test_labels)"
   ]
  },
  {
   "cell_type": "markdown",
   "metadata": {
    "id": "2ycaqQNyMlnU"
   },
   "source": [
    "Let's convince ourselves that the data looks correct.  We expect the train data to be an array of integer ids and the labels to be an array of zeroes and ones (since we are learning a binary classifier)."
   ]
  },
  {
   "cell_type": "code",
   "execution_count": 24,
   "metadata": {
    "colab": {
     "base_uri": "https://localhost:8080/"
    },
    "id": "NOY1newUMlnU",
    "outputId": "25ae6a17-5e13-4be9-c353-93c4e1b0b626"
   },
   "outputs": [
    {
     "data": {
      "text/plain": [
       "array([[21531, 25272, 12291,  7427, 37254, 43981,  6891, 12917, 38232,\n",
       "        16915, 12929, 16182, 43981, 20526, 23487, 43981, 23807, 42958,\n",
       "        35058, 43981, 19123, 35029, 41270, 29275, 12917, 32597, 20659,\n",
       "          638, 16915, 43981,   174, 32597, 35058, 39971,  2326,  3636,\n",
       "        22434, 35029, 43981, 33922, 43981, 21531, 34710, 16908, 12291,\n",
       "        36880, 28137,  5376, 28038, 43981, 15402, 29155, 18063, 24951,\n",
       "        17433, 17595,  8856, 14193, 43981, 43248, 17433,  6290, 32597,\n",
       "         9001, 11511, 43981, 21807, 39168, 43981, 16856, 43981, 43981,\n",
       "        23245, 43981,  8889,  1331, 43981, 25272, 31976, 19123, 43981,\n",
       "        18063, 36309, 24099, 16915, 43981, 34710, 36633, 25272, 20413,\n",
       "        43981, 33458, 14926, 43981, 12139, 12289, 39617, 36633,  9483,\n",
       "        42958,  5589,  8092, 43981, 34516, 43981,  8092, 16182, 43981,\n",
       "        39933, 43981, 12139,  2326, 32781, 32467,  7046, 43981, 43981,\n",
       "        43981, 43981, 43981, 43981, 43981, 43981, 43981, 43981, 43981,\n",
       "        43981, 43981],\n",
       "       [12139,  7841, 19666, 31757, 43981, 17853, 25745, 15445, 43981,\n",
       "        19123, 35029, 16908, 21113, 21068, 43981, 43981,  5668, 43981,\n",
       "        33456, 43981, 34554, 43981,  1200, 27498, 43981, 18802, 20514,\n",
       "        14193, 43981, 43981, 23955, 14042, 15400, 43981, 43981, 32334,\n",
       "        20514, 35029,  7870, 12139, 17108, 25745, 43830, 14193, 28743,\n",
       "        25272, 43981, 15402, 17006,   222, 25272, 43981, 43981, 33994,\n",
       "        43981, 43981, 42659, 12375, 43981, 43981, 19123,  1331, 19870,\n",
       "         7816, 43981, 31696, 25272, 23801, 13877, 20526, 43981, 12139,\n",
       "        43981, 12139, 37939,  7841, 24998, 29109, 43981, 14193, 43981,\n",
       "        19123, 16266,  8017, 14193, 43099, 43981, 16909, 43981, 30811,\n",
       "        14042, 12375, 43981, 25574, 43981, 34511, 21851, 14087,  9370,\n",
       "        33458, 14926, 14799, 11511, 12936, 43981, 12139,  5935, 16531,\n",
       "        35029, 28743, 40418, 43981, 43981, 43981, 43981, 43981, 43981,\n",
       "        43981, 43981, 43981, 43981, 43981, 43981, 43981, 43981, 43981,\n",
       "        43981, 43981]])"
      ]
     },
     "execution_count": 24,
     "metadata": {},
     "output_type": "execute_result"
    }
   ],
   "source": [
    "train_input[:2]"
   ]
  },
  {
   "cell_type": "code",
   "execution_count": 25,
   "metadata": {
    "colab": {
     "base_uri": "https://localhost:8080/"
    },
    "id": "WcfkqFlvMlnU",
    "outputId": "dad4d2f1-1214-4dc8-ec39-65009fe880f4"
   },
   "outputs": [
    {
     "data": {
      "text/plain": [
       "array([0, 0, 0, 1])"
      ]
     },
     "execution_count": 25,
     "metadata": {},
     "output_type": "execute_result"
    }
   ],
   "source": [
    "train_labels[:4]"
   ]
  },
  {
   "cell_type": "markdown",
   "metadata": {
    "id": "ePxwJP48MlnU"
   },
   "source": [
    "[Return to Top](#returnToTop)  \n",
    "<a id = 'modeling'></a>\n",
    "## 3. Modeling\n",
    "\n",
    "<a id = 'averagingNetwork'></a>\n",
    "### 3.1 Averaging Network (AN) Model\n",
    "\n",
    "Let us start by defining the embedding layer, then we'll average the embeddings and pass them into our classification layer."
   ]
  },
  {
   "cell_type": "code",
   "execution_count": 26,
   "metadata": {
    "id": "3pqP3_6VeTQ-"
   },
   "outputs": [],
   "source": [
    "an_input_layer = tf.keras.layers.Input(shape=(MAX_SEQUENCE_LENGTH,), dtype='int64')"
   ]
  },
  {
   "cell_type": "code",
   "execution_count": 27,
   "metadata": {
    "id": "kuhtMfRzMlnV"
   },
   "outputs": [],
   "source": [
    "an_embedding_layer = Embedding(embedding_matrix.shape[0],\n",
    "                               embedding_matrix.shape[1],\n",
    "                               embeddings_initializer=tf.keras.initializers.Constant(embedding_matrix),\n",
    "                               input_length=MAX_SEQUENCE_LENGTH,\n",
    "                               trainable=False)"
   ]
  },
  {
   "cell_type": "code",
   "execution_count": 28,
   "metadata": {
    "id": "IJP0bf8lMlnV"
   },
   "outputs": [],
   "source": [
    "an_embeddings = an_embedding_layer(an_input_layer)"
   ]
  },
  {
   "cell_type": "markdown",
   "metadata": {
    "id": "bDqzRIhpO9dq"
   },
   "source": [
    "Now lets define a layer that will take the embeddings for each of the words in an input sentence and create one averaged embedding to represent the sentence. "
   ]
  },
  {
   "cell_type": "code",
   "execution_count": 29,
   "metadata": {
    "id": "9x-hGIfJMlnV"
   },
   "outputs": [],
   "source": [
    "an_avg_embeddings = tf.keras.layers.Lambda(lambda x: K.mean(x, axis=1), name='averaging')(an_embeddings)"
   ]
  },
  {
   "cell_type": "markdown",
   "metadata": {
    "id": "MCCkkDpaO9dr"
   },
   "source": [
    "Finally lets define our output layer."
   ]
  },
  {
   "cell_type": "code",
   "execution_count": 30,
   "metadata": {
    "id": "JnHSyTJoMlnV"
   },
   "outputs": [],
   "source": [
    "an_classification = tf.keras.layers.Dense(1, \n",
    "                                          activation='sigmoid', \n",
    "                                          name='an_classification')(an_avg_embeddings)"
   ]
  },
  {
   "cell_type": "code",
   "execution_count": 31,
   "metadata": {
    "id": "xnCtk8N6MlnV"
   },
   "outputs": [],
   "source": [
    "an_model = tf.keras.models.Model(inputs=an_input_layer, outputs=[an_classification])"
   ]
  },
  {
   "cell_type": "code",
   "execution_count": 32,
   "metadata": {
    "id": "Hait_XiLMlnV"
   },
   "outputs": [],
   "source": [
    "an_model.compile(loss='binary_crossentropy',\n",
    "                 optimizer=tf.keras.optimizers.Adam(learning_rate=0.001,\n",
    "                                                    beta_1=0.9,\n",
    "                                                    beta_2=0.999,\n",
    "                                                    epsilon=1e-07,\n",
    "                                                    amsgrad=False,\n",
    "                                                    name='Adam'),\n",
    "                 metrics='accuracy')"
   ]
  },
  {
   "cell_type": "code",
   "execution_count": 33,
   "metadata": {
    "colab": {
     "base_uri": "https://localhost:8080/"
    },
    "id": "5a3lU-rCMlnV",
    "outputId": "1a2e560a-2d72-42be-bd44-a4aaec625b41"
   },
   "outputs": [
    {
     "name": "stdout",
     "output_type": "stream",
     "text": [
      "Model: \"model\"\n",
      "_________________________________________________________________\n",
      " Layer (type)                Output Shape              Param #   \n",
      "=================================================================\n",
      " input_1 (InputLayer)        [(None, 128)]             0         \n",
      "                                                                 \n",
      " embedding (Embedding)       (None, 128, 300)          13194600  \n",
      "                                                                 \n",
      " averaging (Lambda)          (None, 300)               0         \n",
      "                                                                 \n",
      " an_classification (Dense)   (None, 1)                 301       \n",
      "                                                                 \n",
      "=================================================================\n",
      "Total params: 13,194,901\n",
      "Trainable params: 301\n",
      "Non-trainable params: 13,194,600\n",
      "_________________________________________________________________\n"
     ]
    }
   ],
   "source": [
    "an_model.summary()"
   ]
  },
  {
   "cell_type": "code",
   "execution_count": 34,
   "metadata": {
    "colab": {
     "base_uri": "https://localhost:8080/",
     "height": 397
    },
    "id": "lhyGPsK0MlnV",
    "outputId": "b55bfc6a-1979-412b-aafb-68ed5bea0115"
   },
   "outputs": [
    {
     "data": {
      "image/png": "[encoded data removed]",
      "text/plain": [
       "<IPython.core.display.Image object>"
      ]
     },
     "execution_count": 34,
     "metadata": {},
     "output_type": "execute_result"
    }
   ],
   "source": [
    "keras.utils.plot_model(an_model, show_shapes=True, dpi=90)"
   ]
  },
  {
   "cell_type": "markdown",
   "metadata": {
    "id": "s3mrVye_MlnV"
   },
   "source": [
    "Let's look at the predictions and labels before training. Do those make sense?"
   ]
  },
  {
   "cell_type": "code",
   "execution_count": 35,
   "metadata": {
    "colab": {
     "base_uri": "https://localhost:8080/"
    },
    "id": "GwRb8foUMlnV",
    "outputId": "f8dc738c-b8c3-45bc-fc18-52b5cd505ebc"
   },
   "outputs": [
    {
     "name": "stdout",
     "output_type": "stream",
     "text": [
      "1/1 [==============================] - 3s 3s/step\n",
      "predictions:\n",
      " [[0.5019362 ]\n",
      " [0.49996883]\n",
      " [0.49979421]\n",
      " [0.5017759 ]\n",
      " [0.50115037]]\n",
      "\n",
      "\n",
      "labels:\n",
      " [0 0 0 1 1]\n"
     ]
    }
   ],
   "source": [
    "print('predictions:\\n', an_model.predict(train_input[:5]))\n",
    "print('\\n\\nlabels:\\n', train_labels[:5])"
   ]
  },
  {
   "cell_type": "code",
   "execution_count": 36,
   "metadata": {
    "colab": {
     "base_uri": "https://localhost:8080/"
    },
    "id": "VLdk2sCdMlnV",
    "outputId": "89e029bf-7ffc-4489-9864-3651d16c52d7"
   },
   "outputs": [
    {
     "name": "stdout",
     "output_type": "stream",
     "text": [
      "Epoch 1/20\n",
      "625/625 [==============================] - 4s 3ms/step - loss: 0.6874 - accuracy: 0.5784 - val_loss: 0.6842 - val_accuracy: 0.5784\n",
      "Epoch 2/20\n",
      "625/625 [==============================] - 2s 3ms/step - loss: 0.6777 - accuracy: 0.6340 - val_loss: 0.6756 - val_accuracy: 0.6440\n",
      "Epoch 3/20\n",
      "625/625 [==============================] - 2s 3ms/step - loss: 0.6692 - accuracy: 0.6589 - val_loss: 0.6684 - val_accuracy: 0.6490\n",
      "Epoch 4/20\n",
      "625/625 [==============================] - 2s 4ms/step - loss: 0.6616 - accuracy: 0.6670 - val_loss: 0.6620 - val_accuracy: 0.6568\n",
      "Epoch 5/20\n",
      "625/625 [==============================] - 2s 3ms/step - loss: 0.6548 - accuracy: 0.6708 - val_loss: 0.6563 - val_accuracy: 0.6584\n",
      "Epoch 6/20\n",
      "625/625 [==============================] - 2s 3ms/step - loss: 0.6485 - accuracy: 0.6790 - val_loss: 0.6508 - val_accuracy: 0.6634\n",
      "Epoch 7/20\n",
      "625/625 [==============================] - 2s 3ms/step - loss: 0.6426 - accuracy: 0.6811 - val_loss: 0.6454 - val_accuracy: 0.6688\n",
      "Epoch 8/20\n",
      "625/625 [==============================] - 2s 3ms/step - loss: 0.6373 - accuracy: 0.6855 - val_loss: 0.6407 - val_accuracy: 0.6732\n",
      "Epoch 9/20\n",
      "625/625 [==============================] - 2s 3ms/step - loss: 0.6321 - accuracy: 0.6912 - val_loss: 0.6367 - val_accuracy: 0.6778\n",
      "Epoch 10/20\n",
      "625/625 [==============================] - 2s 4ms/step - loss: 0.6274 - accuracy: 0.6952 - val_loss: 0.6319 - val_accuracy: 0.6818\n",
      "Epoch 11/20\n",
      "625/625 [==============================] - 2s 4ms/step - loss: 0.6228 - accuracy: 0.7003 - val_loss: 0.6277 - val_accuracy: 0.6846\n",
      "Epoch 12/20\n",
      "625/625 [==============================] - 2s 3ms/step - loss: 0.6184 - accuracy: 0.7027 - val_loss: 0.6237 - val_accuracy: 0.6848\n",
      "Epoch 13/20\n",
      "625/625 [==============================] - 2s 3ms/step - loss: 0.6142 - accuracy: 0.7066 - val_loss: 0.6204 - val_accuracy: 0.6932\n",
      "Epoch 14/20\n",
      "625/625 [==============================] - 2s 3ms/step - loss: 0.6104 - accuracy: 0.7085 - val_loss: 0.6165 - val_accuracy: 0.6950\n",
      "Epoch 15/20\n",
      "625/625 [==============================] - 2s 3ms/step - loss: 0.6063 - accuracy: 0.7121 - val_loss: 0.6129 - val_accuracy: 0.6948\n",
      "Epoch 16/20\n",
      "625/625 [==============================] - 2s 3ms/step - loss: 0.6029 - accuracy: 0.7160 - val_loss: 0.6095 - val_accuracy: 0.6960\n",
      "Epoch 17/20\n",
      "625/625 [==============================] - 3s 4ms/step - loss: 0.5993 - accuracy: 0.7177 - val_loss: 0.6063 - val_accuracy: 0.7010\n",
      "Epoch 18/20\n",
      "625/625 [==============================] - 2s 3ms/step - loss: 0.5960 - accuracy: 0.7204 - val_loss: 0.6035 - val_accuracy: 0.7070\n",
      "Epoch 19/20\n",
      "625/625 [==============================] - 2s 3ms/step - loss: 0.5928 - accuracy: 0.7225 - val_loss: 0.6003 - val_accuracy: 0.7092\n",
      "Epoch 20/20\n",
      "625/625 [==============================] - 2s 3ms/step - loss: 0.5896 - accuracy: 0.7250 - val_loss: 0.5976 - val_accuracy: 0.7126\n"
     ]
    }
   ],
   "source": [
    "an_history = an_model.fit(train_input,\n",
    "                          train_labels,\n",
    "                          validation_data=(test_input, test_labels),\n",
    "                          batch_size=32,\n",
    "                          epochs=20\n",
    "                          )"
   ]
  },
  {
   "cell_type": "markdown",
   "metadata": {
    "id": "oUdddsevMlnV"
   },
   "source": [
    "Let's revisit the predictions. How is this?"
   ]
  },
  {
   "cell_type": "code",
   "execution_count": 37,
   "metadata": {
    "colab": {
     "base_uri": "https://localhost:8080/"
    },
    "id": "Dazj7jEfMlnV",
    "outputId": "882b34fa-eaaf-4a91-cf18-c0efe5a79c24"
   },
   "outputs": [
    {
     "name": "stdout",
     "output_type": "stream",
     "text": [
      "1/1 [==============================] - 0s 23ms/step\n",
      "predictions:\n",
      " [[0.3260026]\n",
      " [0.3099531]\n",
      " [0.5913908]\n",
      " [0.6293117]\n",
      " [0.5259028]]\n",
      "\n",
      "\n",
      "labels:\n",
      " [0 0 0 1 1]\n"
     ]
    }
   ],
   "source": [
    "print('predictions:\\n', an_model.predict(train_input[:5]))\n",
    "print('\\n\\nlabels:\\n', train_labels[:5])"
   ]
  },
  {
   "cell_type": "markdown",
   "metadata": {
    "id": "6yDQcGMlMlnV"
   },
   "source": [
    "That learned somewhat, can we do better?\n",
    "\n",
    "[Return to Top](#returnToTop)  \n",
    "<a id = 'modelDAN'></a>\n",
    "### 3.2. Deep Averaging Network (DAN)\n",
    "\n",
    "Now let's add some hidden layers after the averaging layer, to give our model more depth. The first and last layers are the same as above.\n",
    "\n",
    "We'll also put our model creation code into a function, with variables for the things we can change (in this case, the hidden layers). Then we can try different values later."
   ]
  },
  {
   "cell_type": "code",
   "execution_count": 38,
   "metadata": {
    "id": "ygOwHEqLMlnV"
   },
   "outputs": [],
   "source": [
    "def build_dan_model(hidden_layer_dims, dropout_rate, embeddings_trainable=False):\n",
    "    dan_input_layer = tf.keras.layers.Input(shape=(MAX_SEQUENCE_LENGTH,), dtype='int64')\n",
    "    dan_embedding_layer = Embedding(embedding_matrix.shape[0],\n",
    "                                    embedding_matrix.shape[1],\n",
    "                                    embeddings_initializer=tf.keras.initializers.Constant(embedding_matrix),\n",
    "                                    input_length=MAX_SEQUENCE_LENGTH,\n",
    "                                    trainable=embeddings_trainable)\n",
    "    dan_embeddings = dan_embedding_layer(dan_input_layer)\n",
    "    dan_avg_embeddings = tf.keras.layers.Lambda(lambda x: K.mean(x, axis=1),\n",
    "                                                name='averaging')(dan_embeddings)\n",
    "    last_hidden_output = dan_avg_embeddings\n",
    "\n",
    "    for i, h_dim in enumerate(hidden_layer_dims):\n",
    "        last_hidden_output = tf.keras.layers.Dense(h_dim, activation='relu',\n",
    "                                                   name='dan_hidden_%d' % i)(last_hidden_output)\n",
    "        last_hidden_output = tf.keras.layers.Dropout(dropout_rate)(last_hidden_output)\n",
    "    \n",
    "    dan_classification = tf.keras.layers.Dense(1,\n",
    "                                               activation='sigmoid',\n",
    "                                               name='dan_classification')(last_hidden_output)\n",
    "    \n",
    "    dan_model = tf.keras.models.Model(inputs=dan_input_layer, outputs=[dan_classification])\n",
    "    dan_model.compile(loss='binary_crossentropy',\n",
    "                      optimizer=tf.keras.optimizers.Adam(learning_rate=0.001,\n",
    "                                                         beta_1=0.9,\n",
    "                                                         beta_2=0.999,\n",
    "                                                         epsilon=1e-07,\n",
    "                                                         amsgrad=False,\n",
    "                                                         name='Adam'),\n",
    "                      metrics='accuracy')\n",
    "    return dan_model"
   ]
  },
  {
   "cell_type": "code",
   "execution_count": 39,
   "metadata": {
    "colab": {
     "base_uri": "https://localhost:8080/",
     "height": 812
    },
    "id": "QRXwMFi3MlnV",
    "outputId": "7414bfde-f2ab-4931-ac71-f1d556027b1b"
   },
   "outputs": [
    {
     "data": {
      "image/png": "[encoded data removed]",
      "text/plain": [
       "<IPython.core.display.Image object>"
      ]
     },
     "execution_count": 39,
     "metadata": {},
     "output_type": "execute_result"
    }
   ],
   "source": [
    "# Now call our function to create a DAN model, and show the model diagram\n",
    "\n",
    "hidden_layer_sizes = [100, 50]\n",
    "dropout_rate = 0.5\n",
    "\n",
    "dan_model = build_dan_model(hidden_layer_sizes, dropout_rate)\n",
    "keras.utils.plot_model(dan_model, show_shapes=True, dpi=90)"
   ]
  },
  {
   "cell_type": "code",
   "execution_count": 40,
   "metadata": {
    "colab": {
     "base_uri": "https://localhost:8080/"
    },
    "id": "ONqclasBMlnW",
    "outputId": "480dd696-4132-4050-9dff-2082f8c85ebd"
   },
   "outputs": [
    {
     "name": "stdout",
     "output_type": "stream",
     "text": [
      "Epoch 1/20\n",
      "625/625 [==============================] - 4s 4ms/step - loss: 0.6326 - accuracy: 0.6371 - val_loss: 0.5400 - val_accuracy: 0.7356\n",
      "Epoch 2/20\n",
      "625/625 [==============================] - 2s 3ms/step - loss: 0.5274 - accuracy: 0.7437 - val_loss: 0.5034 - val_accuracy: 0.7584\n",
      "Epoch 3/20\n",
      "625/625 [==============================] - 2s 4ms/step - loss: 0.5071 - accuracy: 0.7576 - val_loss: 0.4923 - val_accuracy: 0.7612\n",
      "Epoch 4/20\n",
      "625/625 [==============================] - 3s 5ms/step - loss: 0.4908 - accuracy: 0.7678 - val_loss: 0.5042 - val_accuracy: 0.7482\n",
      "Epoch 5/20\n",
      "625/625 [==============================] - 2s 4ms/step - loss: 0.4853 - accuracy: 0.7700 - val_loss: 0.4788 - val_accuracy: 0.7692\n",
      "Epoch 6/20\n",
      "625/625 [==============================] - 2s 3ms/step - loss: 0.4820 - accuracy: 0.7738 - val_loss: 0.4755 - val_accuracy: 0.7726\n",
      "Epoch 7/20\n",
      "625/625 [==============================] - 2s 3ms/step - loss: 0.4745 - accuracy: 0.7758 - val_loss: 0.4776 - val_accuracy: 0.7716\n",
      "Epoch 8/20\n",
      "625/625 [==============================] - 2s 3ms/step - loss: 0.4751 - accuracy: 0.7760 - val_loss: 0.4672 - val_accuracy: 0.7732\n",
      "Epoch 9/20\n",
      "625/625 [==============================] - 3s 4ms/step - loss: 0.4682 - accuracy: 0.7800 - val_loss: 0.4677 - val_accuracy: 0.7748\n",
      "Epoch 10/20\n",
      "625/625 [==============================] - 2s 4ms/step - loss: 0.4698 - accuracy: 0.7780 - val_loss: 0.4621 - val_accuracy: 0.7774\n",
      "Epoch 11/20\n",
      "625/625 [==============================] - 2s 3ms/step - loss: 0.4644 - accuracy: 0.7835 - val_loss: 0.4760 - val_accuracy: 0.7694\n",
      "Epoch 12/20\n",
      "625/625 [==============================] - 2s 3ms/step - loss: 0.4659 - accuracy: 0.7831 - val_loss: 0.4764 - val_accuracy: 0.7744\n",
      "Epoch 13/20\n",
      "625/625 [==============================] - 2s 3ms/step - loss: 0.4613 - accuracy: 0.7829 - val_loss: 0.4619 - val_accuracy: 0.7784\n",
      "Epoch 14/20\n",
      "625/625 [==============================] - 3s 4ms/step - loss: 0.4624 - accuracy: 0.7828 - val_loss: 0.4588 - val_accuracy: 0.7788\n",
      "Epoch 15/20\n",
      "625/625 [==============================] - 3s 4ms/step - loss: 0.4605 - accuracy: 0.7861 - val_loss: 0.4599 - val_accuracy: 0.7792\n",
      "Epoch 16/20\n",
      "625/625 [==============================] - 3s 4ms/step - loss: 0.4605 - accuracy: 0.7828 - val_loss: 0.4601 - val_accuracy: 0.7790\n",
      "Epoch 17/20\n",
      "625/625 [==============================] - 2s 4ms/step - loss: 0.4561 - accuracy: 0.7847 - val_loss: 0.4578 - val_accuracy: 0.7786\n",
      "Epoch 18/20\n",
      "625/625 [==============================] - 2s 3ms/step - loss: 0.4553 - accuracy: 0.7879 - val_loss: 0.4582 - val_accuracy: 0.7778\n",
      "Epoch 19/20\n",
      "625/625 [==============================] - 2s 4ms/step - loss: 0.4556 - accuracy: 0.7882 - val_loss: 0.4572 - val_accuracy: 0.7786\n",
      "Epoch 20/20\n",
      "625/625 [==============================] - 3s 4ms/step - loss: 0.4546 - accuracy: 0.7886 - val_loss: 0.4678 - val_accuracy: 0.7760\n"
     ]
    }
   ],
   "source": [
    "dan_history = dan_model.fit(train_input,\n",
    "                            train_labels,\n",
    "                            validation_data=(test_input, test_labels),\n",
    "                            batch_size=32,\n",
    "                            epochs=20\n",
    "                            )"
   ]
  },
  {
   "cell_type": "markdown",
   "metadata": {
    "id": "CPHHM-Q8MlnW"
   },
   "source": [
    "Below is a sample plot for two different models:"
   ]
  },
  {
   "cell_type": "code",
   "execution_count": 41,
   "metadata": {
    "colab": {
     "base_uri": "https://localhost:8080/",
     "height": 839
    },
    "id": "o_yH7ySqWyjz",
    "outputId": "9e75ece5-14e0-4158-b225-fab549bcec78"
   },
   "outputs": [
    {
     "data": {
      "image/png": "[encoded data removed]",
      "text/plain": [
       "<Figure size 1850x1050 with 4 Axes>"
      ]
     },
     "metadata": {},
     "output_type": "display_data"
    }
   ],
   "source": [
    "fig, axs = plt.subplots(2, 2)\n",
    "fig.subplots_adjust(left=0.2, wspace=0.6)\n",
    "make_plot(axs,\n",
    "          an_history,\n",
    "          dan_history,\n",
    "          model_1_name='an',\n",
    "          model_2_name='dan')\n",
    "\n",
    "fig.align_ylabels(axs[:, 1])\n",
    "fig.set_size_inches(18.5, 10.5)\n",
    "plt.show()"
   ]
  },
  {
   "cell_type": "markdown",
   "metadata": {
    "id": "28MFkARVMlnW"
   },
   "source": [
    "Of course, the avergaing network is not done training."
   ]
  },
  {
   "cell_type": "markdown",
   "metadata": {
    "id": "Cw9-emMXMlnW"
   },
   "source": [
    "[Return to Top](#returnToTop)  \n",
    "<a id = 'modelCNN'></a>\n",
    "### 3.3 CNN Model\n",
    "\n",
    "Next let's build a CNN model. We'll also wrap the model building code in a function that takes some hyperparameters, so that we can adjust things like number of filters and filter sizes later."
   ]
  },
  {
   "cell_type": "code",
   "execution_count": 42,
   "metadata": {
    "id": "NhTOlX25MlnW"
   },
   "outputs": [],
   "source": [
    "def build_cnn_model(num_filters, kernel_sizes, dense_layer_dims, dropout_rate, embeddings_trainable=False):\n",
    "    cnn_input_layer = tf.keras.layers.Input(shape=(MAX_SEQUENCE_LENGTH,), dtype='int64')\n",
    "    cnn_embedding_layer = Embedding(embedding_matrix.shape[0],\n",
    "                                    embedding_matrix.shape[1],\n",
    "                                    embeddings_initializer=tf.keras.initializers.Constant(embedding_matrix),\n",
    "                                    input_length=MAX_SEQUENCE_LENGTH,\n",
    "                                    trainable=embeddings_trainable)\n",
    "    cnn_embeddings = cnn_embedding_layer(cnn_input_layer)\n",
    "\n",
    "    conv_layers_for_all_kernel_sizes = []\n",
    "    for kernel_size, filters in zip(kernel_sizes, num_filters):\n",
    "        conv_layer = keras.layers.Conv1D(filters=filters, kernel_size=kernel_size, activation='relu')(cnn_embeddings)\n",
    "        conv_layer = keras.layers.GlobalMaxPooling1D()(conv_layer)\n",
    "        conv_layers_for_all_kernel_sizes.append(conv_layer)\n",
    "    \n",
    "    conv_output = keras.layers.concatenate(conv_layers_for_all_kernel_sizes, axis=1)\n",
    "    last_hidden_output = keras.layers.Dropout(rate=dropout_rate)(conv_output)\n",
    "\n",
    "    for dense_layer_dim in dense_layer_dims:\n",
    "        last_hidden_output = keras.layers.Dense(dense_layer_dim, activation='relu')(last_hidden_output)\n",
    "    \n",
    "    cnn_prediction = keras.layers.Dense(1, activation='sigmoid')(last_hidden_output)\n",
    "\n",
    "    cnn_model = keras.Model(inputs=cnn_input_layer, outputs=cnn_prediction)\n",
    "    cnn_model.compile(optimizer='adam',\n",
    "                      loss='binary_crossentropy',  # From information theory notebooks.\n",
    "                      metrics=['accuracy'])\n",
    "    return cnn_model"
   ]
  },
  {
   "cell_type": "code",
   "execution_count": 43,
   "metadata": {
    "id": "Jkx80zazMlnW"
   },
   "outputs": [],
   "source": [
    "# Now specify model hyperparameters and call the function to create a CNN model\n",
    "\n",
    "num_filters = [100, 100, 50, 25]\n",
    "kernel_sizes = [3, 4, 5, 10]\n",
    "dense_layer_dims = [100, 50]\n",
    "dropout_rate = 0.5\n",
    "\n",
    "cnn_model = build_cnn_model(num_filters, kernel_sizes, dense_layer_dims, dropout_rate)"
   ]
  },
  {
   "cell_type": "code",
   "execution_count": 44,
   "metadata": {
    "colab": {
     "base_uri": "https://localhost:8080/"
    },
    "id": "7G0cH1a2MlnW",
    "outputId": "07aaace3-1f71-4030-e47f-fa51d4e97d7b"
   },
   "outputs": [
    {
     "name": "stdout",
     "output_type": "stream",
     "text": [
      "Model: \"model_2\"\n",
      "__________________________________________________________________________________________________\n",
      " Layer (type)                   Output Shape         Param #     Connected to                     \n",
      "==================================================================================================\n",
      " input_3 (InputLayer)           [(None, 128)]        0           []                               \n",
      "                                                                                                  \n",
      " embedding_2 (Embedding)        (None, 128, 300)     13194600    ['input_3[0][0]']                \n",
      "                                                                                                  \n",
      " conv1d (Conv1D)                (None, 126, 100)     90100       ['embedding_2[0][0]']            \n",
      "                                                                                                  \n",
      " conv1d_1 (Conv1D)              (None, 125, 100)     120100      ['embedding_2[0][0]']            \n",
      "                                                                                                  \n",
      " conv1d_2 (Conv1D)              (None, 124, 50)      75050       ['embedding_2[0][0]']            \n",
      "                                                                                                  \n",
      " conv1d_3 (Conv1D)              (None, 119, 25)      75025       ['embedding_2[0][0]']            \n",
      "                                                                                                  \n",
      " global_max_pooling1d (GlobalMa  (None, 100)         0           ['conv1d[0][0]']                 \n",
      " xPooling1D)                                                                                      \n",
      "                                                                                                  \n",
      " global_max_pooling1d_1 (Global  (None, 100)         0           ['conv1d_1[0][0]']               \n",
      " MaxPooling1D)                                                                                    \n",
      "                                                                                                  \n",
      " global_max_pooling1d_2 (Global  (None, 50)          0           ['conv1d_2[0][0]']               \n",
      " MaxPooling1D)                                                                                    \n",
      "                                                                                                  \n",
      " global_max_pooling1d_3 (Global  (None, 25)          0           ['conv1d_3[0][0]']               \n",
      " MaxPooling1D)                                                                                    \n",
      "                                                                                                  \n",
      " concatenate (Concatenate)      (None, 275)          0           ['global_max_pooling1d[0][0]',   \n",
      "                                                                  'global_max_pooling1d_1[0][0]', \n",
      "                                                                  'global_max_pooling1d_2[0][0]', \n",
      "                                                                  'global_max_pooling1d_3[0][0]'] \n",
      "                                                                                                  \n",
      " dropout_2 (Dropout)            (None, 275)          0           ['concatenate[0][0]']            \n",
      "                                                                                                  \n",
      " dense (Dense)                  (None, 100)          27600       ['dropout_2[0][0]']              \n",
      "                                                                                                  \n",
      " dense_1 (Dense)                (None, 50)           5050        ['dense[0][0]']                  \n",
      "                                                                                                  \n",
      " dense_2 (Dense)                (None, 1)            51          ['dense_1[0][0]']                \n",
      "                                                                                                  \n",
      "==================================================================================================\n",
      "Total params: 13,587,576\n",
      "Trainable params: 392,976\n",
      "Non-trainable params: 13,194,600\n",
      "__________________________________________________________________________________________________\n"
     ]
    }
   ],
   "source": [
    "cnn_model.summary()"
   ]
  },
  {
   "cell_type": "markdown",
   "metadata": {
    "id": "1W2eeXE4MlnW"
   },
   "source": [
    "The keras plot utility shows this probably a bit nicer:"
   ]
  },
  {
   "cell_type": "code",
   "execution_count": 45,
   "metadata": {
    "colab": {
     "base_uri": "https://localhost:8080/",
     "height": 721
    },
    "id": "rLxkEjKbMlnW",
    "outputId": "ba091556-35d6-4559-eb77-5494315f6941"
   },
   "outputs": [
    {
     "data": {
      "image/png": "[encoded data removed]",
      "text/plain": [
       "<IPython.core.display.Image object>"
      ]
     },
     "execution_count": 45,
     "metadata": {},
     "output_type": "execute_result"
    }
   ],
   "source": [
    "keras.utils.plot_model(cnn_model, show_shapes=True, dpi=90)"
   ]
  },
  {
   "cell_type": "code",
   "execution_count": 46,
   "metadata": {
    "colab": {
     "base_uri": "https://localhost:8080/"
    },
    "id": "kA4LlSm5MlnW",
    "outputId": "6e5cbee6-659b-408d-c4d9-31ff724a0356"
   },
   "outputs": [
    {
     "name": "stdout",
     "output_type": "stream",
     "text": [
      "Epoch 1/5\n",
      "625/625 [==============================] - 13s 7ms/step - loss: 0.5444 - accuracy: 0.7109 - val_loss: 0.4310 - val_accuracy: 0.7950\n",
      "Epoch 2/5\n",
      "625/625 [==============================] - 4s 7ms/step - loss: 0.4239 - accuracy: 0.8047 - val_loss: 0.4064 - val_accuracy: 0.8102\n",
      "Epoch 3/5\n",
      "625/625 [==============================] - 4s 6ms/step - loss: 0.3748 - accuracy: 0.8332 - val_loss: 0.3993 - val_accuracy: 0.8184\n",
      "Epoch 4/5\n",
      "625/625 [==============================] - 4s 6ms/step - loss: 0.3238 - accuracy: 0.8593 - val_loss: 0.4545 - val_accuracy: 0.7990\n",
      "Epoch 5/5\n",
      "625/625 [==============================] - 4s 7ms/step - loss: 0.2835 - accuracy: 0.8791 - val_loss: 0.4088 - val_accuracy: 0.8134\n"
     ]
    }
   ],
   "source": [
    "cnn_history = cnn_model.fit(train_input,\n",
    "                            train_labels,\n",
    "                            validation_data=(test_input, test_labels),\n",
    "                            batch_size=32,\n",
    "                            epochs=5\n",
    "                            )"
   ]
  },
  {
   "cell_type": "markdown",
   "metadata": {
    "id": "qnUPF0OYMlnX"
   },
   "source": [
    "Below is a comparison of a CNN model with a DAN model: "
   ]
  },
  {
   "cell_type": "code",
   "execution_count": 47,
   "metadata": {
    "colab": {
     "base_uri": "https://localhost:8080/",
     "height": 839
    },
    "id": "YUfJc4VJX-Gp",
    "outputId": "7c5c4674-673c-4571-ac4d-66138380c8ac"
   },
   "outputs": [
    {
     "data": {
      "image/png": "[encoded data removed]",
      "text/plain": [
       "<Figure size 1850x1050 with 4 Axes>"
      ]
     },
     "metadata": {},
     "output_type": "display_data"
    }
   ],
   "source": [
    "fig, axs = plt.subplots(2, 2)\n",
    "fig.subplots_adjust(left=0.2, wspace=0.6)\n",
    "make_plot(axs, \n",
    "          dan_history, \n",
    "          cnn_history, \n",
    "          model_1_name='dan',\n",
    "          model_2_name='cnn')\n",
    "\n",
    "fig.align_ylabels(axs[:, 1])\n",
    "fig.set_size_inches(18.5, 10.5)\n",
    "plt.show()"
   ]
  },
  {
   "cell_type": "markdown",
   "metadata": {
    "id": "J6bJvfz8Zwuz"
   },
   "source": [
    "[Return to Top](#returnToTop)  \n",
    "<a id = 'inClassExercises'></a>\n",
    "### 3.4. In-Class Exercises\n",
    "\n",
    "A. Are any of the models above overfitting? Can you make them overfit less, or more? What parameters might you change to make these models more or less likely to overfit? How good (or bad) can you make it get?\n",
    "\n",
    "> Hint: think about all of the options you can vary, including:\n",
    "* add/remove more hidden layers\n",
    "* vary dropout rates and dimensions\n",
    "* enable/disable retraining of embedding matrix\n",
    "* (for CNN) change number of filters\n",
    "* (for CNN) change kernel sizes of filters\n",
    ">\n",
    "> For the option(s) you choose, do you think it will make the model more or less likely to overfit? Try it, does it work the way you expect?\n",
    "\n",
    "\n",
    "B. Can you make any of these models train faster (or slower)? What parameters might you change to make that happen? Again, does it work how you expect when you try it?\n",
    "\n",
    "You can use the cells below to explore either/both the DAN and CNN, using the functions defined above."
   ]
  },
  {
   "cell_type": "code",
   "execution_count": null,
   "metadata": {
    "id": "EzokuzC6ZxAv"
   },
   "outputs": [],
   "source": [
    "# DAN model hyperparameters: Change these?\n",
    "hidden_layer_sizes = [100, 50]\n",
    "dropout_rate = 0.5\n",
    "embeddings_trainable = False\n",
    "\n",
    "dan_model2 = build_dan_model(hidden_layer_sizes, dropout_rate,\n",
    "                             embeddings_trainable)\n",
    "\n",
    "dan_history2 = dan_model2.fit(train_input,\n",
    "                              train_labels,\n",
    "                              validation_data=(test_input, test_labels),\n",
    "                              batch_size=32,\n",
    "                              epochs=20\n",
    "                              )"
   ]
  },
  {
   "cell_type": "code",
   "execution_count": null,
   "metadata": {
    "id": "veiiANCiXqJo"
   },
   "outputs": [],
   "source": [
    "# Do the plots change how you'd expect?\n",
    "# Did the runtime change (in the cells above)?\n",
    "\n",
    "fig, axs = plt.subplots(2, 2)\n",
    "fig.subplots_adjust(left=0.2, wspace=0.6)\n",
    "make_plot(axs,\n",
    "          dan_history,\n",
    "          dan_history2,\n",
    "          model_1_name='dan v1',\n",
    "          model_2_name='dan v2')\n",
    "\n",
    "fig.align_ylabels(axs[:, 1])\n",
    "fig.set_size_inches(18.5, 10.5)\n",
    "plt.show()"
   ]
  },
  {
   "cell_type": "code",
   "execution_count": null,
   "metadata": {
    "id": "nxTaZIeDiO2F"
   },
   "outputs": [],
   "source": [
    "# CNN model hyperparameters: Change these?\n",
    "num_filters = [100, 100, 50, 25]\n",
    "kernel_sizes = [3, 4, 5, 10]\n",
    "dense_layer_dims = [100, 50]\n",
    "dropout_rate = 0.5\n",
    "embeddings_trainable = False\n",
    "\n",
    "cnn_model2 = build_cnn_model(num_filters, kernel_sizes, dense_layer_dims,\n",
    "                            dropout_rate, embeddings_trainable)\n",
    "\n",
    "cnn_history2 = cnn_model2.fit(train_input,\n",
    "                              train_labels,\n",
    "                              validation_data=(test_input, test_labels),\n",
    "                              batch_size=32,\n",
    "                              epochs=5\n",
    "                              )"
   ]
  },
  {
   "cell_type": "code",
   "execution_count": null,
   "metadata": {
    "id": "PUReh7zOiZi9"
   },
   "outputs": [],
   "source": [
    "# Do the plots change how you'd expect?\n",
    "# Did the runtime change (in the cells above)?\n",
    "\n",
    "fig, axs = plt.subplots(2, 2)\n",
    "fig.subplots_adjust(left=0.2, wspace=0.6)\n",
    "make_plot(axs,\n",
    "          cnn_history,\n",
    "          cnn_history2,\n",
    "          model_1_name='cnn v1',\n",
    "          model_2_name='cnn v2')\n",
    "\n",
    "fig.align_ylabels(axs[:, 1])\n",
    "fig.set_size_inches(18.5, 10.5)\n",
    "plt.show()"
   ]
  },
  {
   "cell_type": "markdown",
   "metadata": {
    "id": "nGvfPUnEMlnX"
   },
   "source": [
    "This finalizes the discussions of DANs and CNNs.\n",
    "\n",
    "Over the next 2 weeks we will first add RNNs and then also classification with BERT."
   ]
  },
  {
   "cell_type": "code",
   "execution_count": null,
   "metadata": {
    "id": "363oxPcGMlnX"
   },
   "outputs": [],
   "source": []
  }
 ],
 "metadata": {
  "accelerator": "GPU",
  "colab": {
   "provenance": []
  },
  "gpuClass": "standard",
  "kernelspec": {
   "display_name": "Python 3",
   "language": "python",
   "name": "python3"
  },
  "language_info": {
   "codemirror_mode": {
    "name": "ipython",
    "version": 3
   },
   "file_extension": ".py",
   "mimetype": "text/x-python",
   "name": "python",
   "nbconvert_exporter": "python",
   "pygments_lexer": "ipython3",
   "version": "3.8.5"
  },
  "widgets": {
   "application/vnd.jupyter.widget-state+json": {
    "03c7b74ae40a42df85074cf9f035ef18": {
     "model_module": "@jupyter-widgets/controls",
     "model_module_version": "1.5.0",
     "model_name": "DescriptionStyleModel",
     "state": {
      "_model_module": "@jupyter-widgets/controls",
      "_model_module_version": "1.5.0",
      "_model_name": "DescriptionStyleModel",
      "_view_count": null,
      "_view_module": "@jupyter-widgets/base",
      "_view_module_version": "1.2.0",
      "_view_name": "StyleView",
      "description_width": ""
     }
    },
    "087c31432e064b64b26e7f3f47efdef0": {
     "model_module": "@jupyter-widgets/base",
     "model_module_version": "1.2.0",
     "model_name": "LayoutModel",
     "state": {
      "_model_module": "@jupyter-widgets/base",
      "_model_module_version": "1.2.0",
      "_model_name": "LayoutModel",
      "_view_count": null,
      "_view_module": "@jupyter-widgets/base",
      "_view_module_version": "1.2.0",
      "_view_name": "LayoutView",
      "align_content": null,
      "align_items": null,
      "align_self": null,
      "border": null,
      "bottom": null,
      "display": null,
      "flex": null,
      "flex_flow": null,
      "grid_area": null,
      "grid_auto_columns": null,
      "grid_auto_flow": null,
      "grid_auto_rows": null,
      "grid_column": null,
      "grid_gap": null,
      "grid_row": null,
      "grid_template_areas": null,
      "grid_template_columns": null,
      "grid_template_rows": null,
      "height": null,
      "justify_content": null,
      "justify_items": null,
      "left": null,
      "margin": null,
      "max_height": null,
      "max_width": null,
      "min_height": null,
      "min_width": null,
      "object_fit": null,
      "object_position": null,
      "order": null,
      "overflow": null,
      "overflow_x": null,
      "overflow_y": null,
      "padding": null,
      "right": null,
      "top": null,
      "visibility": null,
      "width": null
     }
    },
    "09b94bc03c554c5b9ec82fa93fa3924b": {
     "model_module": "@jupyter-widgets/controls",
     "model_module_version": "1.5.0",
     "model_name": "DescriptionStyleModel",
     "state": {
      "_model_module": "@jupyter-widgets/controls",
      "_model_module_version": "1.5.0",
      "_model_name": "DescriptionStyleModel",
      "_view_count": null,
      "_view_module": "@jupyter-widgets/base",
      "_view_module_version": "1.2.0",
      "_view_name": "StyleView",
      "description_width": ""
     }
    },
    "0c320e24735542759a1fa7d0d361723b": {
     "model_module": "@jupyter-widgets/base",
     "model_module_version": "1.2.0",
     "model_name": "LayoutModel",
     "state": {
      "_model_module": "@jupyter-widgets/base",
      "_model_module_version": "1.2.0",
      "_model_name": "LayoutModel",
      "_view_count": null,
      "_view_module": "@jupyter-widgets/base",
      "_view_module_version": "1.2.0",
      "_view_name": "LayoutView",
      "align_content": null,
      "align_items": null,
      "align_self": null,
      "border": null,
      "bottom": null,
      "display": null,
      "flex": null,
      "flex_flow": null,
      "grid_area": null,
      "grid_auto_columns": null,
      "grid_auto_flow": null,
      "grid_auto_rows": null,
      "grid_column": null,
      "grid_gap": null,
      "grid_row": null,
      "grid_template_areas": null,
      "grid_template_columns": null,
      "grid_template_rows": null,
      "height": null,
      "justify_content": null,
      "justify_items": null,
      "left": null,
      "margin": null,
      "max_height": null,
      "max_width": null,
      "min_height": null,
      "min_width": null,
      "object_fit": null,
      "object_position": null,
      "order": null,
      "overflow": null,
      "overflow_x": null,
      "overflow_y": null,
      "padding": null,
      "right": null,
      "top": null,
      "visibility": null,
      "width": null
     }
    },
    "0dd64f13251043c6961ea581a96ef67c": {
     "model_module": "@jupyter-widgets/base",
     "model_module_version": "1.2.0",
     "model_name": "LayoutModel",
     "state": {
      "_model_module": "@jupyter-widgets/base",
      "_model_module_version": "1.2.0",
      "_model_name": "LayoutModel",
      "_view_count": null,
      "_view_module": "@jupyter-widgets/base",
      "_view_module_version": "1.2.0",
      "_view_name": "LayoutView",
      "align_content": null,
      "align_items": null,
      "align_self": null,
      "border": null,
      "bottom": null,
      "display": null,
      "flex": null,
      "flex_flow": null,
      "grid_area": null,
      "grid_auto_columns": null,
      "grid_auto_flow": null,
      "grid_auto_rows": null,
      "grid_column": null,
      "grid_gap": null,
      "grid_row": null,
      "grid_template_areas": null,
      "grid_template_columns": null,
      "grid_template_rows": null,
      "height": null,
      "justify_content": null,
      "justify_items": null,
      "left": null,
      "margin": null,
      "max_height": null,
      "max_width": null,
      "min_height": null,
      "min_width": null,
      "object_fit": null,
      "object_position": null,
      "order": null,
      "overflow": null,
      "overflow_x": null,
      "overflow_y": null,
      "padding": null,
      "right": null,
      "top": null,
      "visibility": null,
      "width": null
     }
    },
    "11152baab1fc4191899dc41b21cc2dac": {
     "model_module": "@jupyter-widgets/base",
     "model_module_version": "1.2.0",
     "model_name": "LayoutModel",
     "state": {
      "_model_module": "@jupyter-widgets/base",
      "_model_module_version": "1.2.0",
      "_model_name": "LayoutModel",
      "_view_count": null,
      "_view_module": "@jupyter-widgets/base",
      "_view_module_version": "1.2.0",
      "_view_name": "LayoutView",
      "align_content": null,
      "align_items": null,
      "align_self": null,
      "border": null,
      "bottom": null,
      "display": null,
      "flex": null,
      "flex_flow": null,
      "grid_area": null,
      "grid_auto_columns": null,
      "grid_auto_flow": null,
      "grid_auto_rows": null,
      "grid_column": null,
      "grid_gap": null,
      "grid_row": null,
      "grid_template_areas": null,
      "grid_template_columns": null,
      "grid_template_rows": null,
      "height": null,
      "justify_content": null,
      "justify_items": null,
      "left": null,
      "margin": null,
      "max_height": null,
      "max_width": null,
      "min_height": null,
      "min_width": null,
      "object_fit": null,
      "object_position": null,
      "order": null,
      "overflow": null,
      "overflow_x": null,
      "overflow_y": null,
      "padding": null,
      "right": null,
      "top": null,
      "visibility": "hidden",
      "width": null
     }
    },
    "12428bceeb0244c682124fe43dba3780": {
     "model_module": "@jupyter-widgets/controls",
     "model_module_version": "1.5.0",
     "model_name": "HBoxModel",
     "state": {
      "_dom_classes": [],
      "_model_module": "@jupyter-widgets/controls",
      "_model_module_version": "1.5.0",
      "_model_name": "HBoxModel",
      "_view_count": null,
      "_view_module": "@jupyter-widgets/controls",
      "_view_module_version": "1.5.0",
      "_view_name": "HBoxView",
      "box_style": "",
      "children": [
       "IPY_MODEL_3ca920e2ea8e47c2885c757847f71bbe",
       "IPY_MODEL_fed9d10708d6457c85110d1c96fd57d7",
       "IPY_MODEL_295cb1365ae147798716fd4627ff83c8"
      ],
      "layout": "IPY_MODEL_8a59b23ff2994258b9c03522b64f2525"
     }
    },
    "12d8b41e1a2f491886becff971cc40d0": {
     "model_module": "@jupyter-widgets/controls",
     "model_module_version": "1.5.0",
     "model_name": "HTMLModel",
     "state": {
      "_dom_classes": [],
      "_model_module": "@jupyter-widgets/controls",
      "_model_module_version": "1.5.0",
      "_model_name": "HTMLModel",
      "_view_count": null,
      "_view_module": "@jupyter-widgets/controls",
      "_view_module_version": "1.5.0",
      "_view_name": "HTMLView",
      "description": "",
      "description_tooltip": null,
      "layout": "IPY_MODEL_4f9543a19e9c478bafc15ff32c225069",
      "placeholder": "​",
      "style": "IPY_MODEL_f560424493c2472792acac2d3651cde2",
      "value": "Generating splits...: 100%"
     }
    },
    "13aed20090814058bd274504863ef0c6": {
     "model_module": "@jupyter-widgets/controls",
     "model_module_version": "1.5.0",
     "model_name": "ProgressStyleModel",
     "state": {
      "_model_module": "@jupyter-widgets/controls",
      "_model_module_version": "1.5.0",
      "_model_name": "ProgressStyleModel",
      "_view_count": null,
      "_view_module": "@jupyter-widgets/base",
      "_view_module_version": "1.2.0",
      "_view_name": "StyleView",
      "bar_color": null,
      "description_width": ""
     }
    },
    "1d4b70741340447bab77375d3d39fdbd": {
     "model_module": "@jupyter-widgets/controls",
     "model_module_version": "1.5.0",
     "model_name": "HTMLModel",
     "state": {
      "_dom_classes": [],
      "_model_module": "@jupyter-widgets/controls",
      "_model_module_version": "1.5.0",
      "_model_name": "HTMLModel",
      "_view_count": null,
      "_view_module": "@jupyter-widgets/controls",
      "_view_module_version": "1.5.0",
      "_view_name": "HTMLView",
      "description": "",
      "description_tooltip": null,
      "layout": "IPY_MODEL_aed3e8a077f24994a9ed0a329085b4e8",
      "placeholder": "​",
      "style": "IPY_MODEL_d9d05408d80443f0830e6d5475875157",
      "value": "Dl Completed...: 100%"
     }
    },
    "1d939c70509642d98b9062bdbb85e98f": {
     "model_module": "@jupyter-widgets/controls",
     "model_module_version": "1.5.0",
     "model_name": "HTMLModel",
     "state": {
      "_dom_classes": [],
      "_model_module": "@jupyter-widgets/controls",
      "_model_module_version": "1.5.0",
      "_model_name": "HTMLModel",
      "_view_count": null,
      "_view_module": "@jupyter-widgets/controls",
      "_view_module_version": "1.5.0",
      "_view_name": "HTMLView",
      "description": "",
      "description_tooltip": null,
      "layout": "IPY_MODEL_382151627373427dbdfbc098df1f0991",
      "placeholder": "​",
      "style": "IPY_MODEL_f2a5c389293247c58440e9c928fbbfe8",
      "value": " 3/3 [00:36&lt;00:00, 12.46s/ splits]"
     }
    },
    "1f041d57052441edb6eef999c3f69f67": {
     "model_module": "@jupyter-widgets/controls",
     "model_module_version": "1.5.0",
     "model_name": "ProgressStyleModel",
     "state": {
      "_model_module": "@jupyter-widgets/controls",
      "_model_module_version": "1.5.0",
      "_model_name": "ProgressStyleModel",
      "_view_count": null,
      "_view_module": "@jupyter-widgets/base",
      "_view_module_version": "1.2.0",
      "_view_name": "StyleView",
      "bar_color": null,
      "description_width": ""
     }
    },
    "223352a22ac947128057b923193102e9": {
     "model_module": "@jupyter-widgets/base",
     "model_module_version": "1.2.0",
     "model_name": "LayoutModel",
     "state": {
      "_model_module": "@jupyter-widgets/base",
      "_model_module_version": "1.2.0",
      "_model_name": "LayoutModel",
      "_view_count": null,
      "_view_module": "@jupyter-widgets/base",
      "_view_module_version": "1.2.0",
      "_view_name": "LayoutView",
      "align_content": null,
      "align_items": null,
      "align_self": null,
      "border": null,
      "bottom": null,
      "display": null,
      "flex": null,
      "flex_flow": null,
      "grid_area": null,
      "grid_auto_columns": null,
      "grid_auto_flow": null,
      "grid_auto_rows": null,
      "grid_column": null,
      "grid_gap": null,
      "grid_row": null,
      "grid_template_areas": null,
      "grid_template_columns": null,
      "grid_template_rows": null,
      "height": null,
      "justify_content": null,
      "justify_items": null,
      "left": null,
      "margin": null,
      "max_height": null,
      "max_width": null,
      "min_height": null,
      "min_width": null,
      "object_fit": null,
      "object_position": null,
      "order": null,
      "overflow": null,
      "overflow_x": null,
      "overflow_y": null,
      "padding": null,
      "right": null,
      "top": null,
      "visibility": null,
      "width": null
     }
    },
    "22d28bc8ec6e44a88746b3c3c6a01c91": {
     "model_module": "@jupyter-widgets/controls",
     "model_module_version": "1.5.0",
     "model_name": "DescriptionStyleModel",
     "state": {
      "_model_module": "@jupyter-widgets/controls",
      "_model_module_version": "1.5.0",
      "_model_name": "DescriptionStyleModel",
      "_view_count": null,
      "_view_module": "@jupyter-widgets/base",
      "_view_module_version": "1.2.0",
      "_view_name": "StyleView",
      "description_width": ""
     }
    },
    "2568f2c852e1472a829512567762c315": {
     "model_module": "@jupyter-widgets/controls",
     "model_module_version": "1.5.0",
     "model_name": "FloatProgressModel",
     "state": {
      "_dom_classes": [],
      "_model_module": "@jupyter-widgets/controls",
      "_model_module_version": "1.5.0",
      "_model_name": "FloatProgressModel",
      "_view_count": null,
      "_view_module": "@jupyter-widgets/controls",
      "_view_module_version": "1.5.0",
      "_view_name": "ProgressView",
      "bar_style": "",
      "description": "",
      "description_tooltip": null,
      "layout": "IPY_MODEL_4cadf5b54c2d423ab1314e92074add31",
      "max": 25000,
      "min": 0,
      "orientation": "horizontal",
      "style": "IPY_MODEL_5fc12968a57f428e89245de6d160a860",
      "value": 25000
     }
    },
    "2754a9c05eb542b3a6698e34eb0a6735": {
     "model_module": "@jupyter-widgets/controls",
     "model_module_version": "1.5.0",
     "model_name": "HTMLModel",
     "state": {
      "_dom_classes": [],
      "_model_module": "@jupyter-widgets/controls",
      "_model_module_version": "1.5.0",
      "_model_name": "HTMLModel",
      "_view_count": null,
      "_view_module": "@jupyter-widgets/controls",
      "_view_module_version": "1.5.0",
      "_view_name": "HTMLView",
      "description": "",
      "description_tooltip": null,
      "layout": "IPY_MODEL_df57b91e09214bf4a3c3cbb91bcd5803",
      "placeholder": "​",
      "style": "IPY_MODEL_30fd7459e25a4664a85f906a67c7ece6",
      "value": "Shuffling /root/tensorflow_datasets/imdb_reviews/plain_text/1.0.0.incompleteXLEBBH/imdb_reviews-test.tfrecord*...:  48%"
     }
    },
    "278fd99c4b63480a9c24db365d6fec94": {
     "model_module": "@jupyter-widgets/controls",
     "model_module_version": "1.5.0",
     "model_name": "HBoxModel",
     "state": {
      "_dom_classes": [],
      "_model_module": "@jupyter-widgets/controls",
      "_model_module_version": "1.5.0",
      "_model_name": "HBoxModel",
      "_view_count": null,
      "_view_module": "@jupyter-widgets/controls",
      "_view_module_version": "1.5.0",
      "_view_name": "HBoxView",
      "box_style": "",
      "children": [
       "IPY_MODEL_2754a9c05eb542b3a6698e34eb0a6735",
       "IPY_MODEL_2568f2c852e1472a829512567762c315",
       "IPY_MODEL_b374d3c2e3564a9b8258367fd328d154"
      ],
      "layout": "IPY_MODEL_7c8474a9016c4dd7a7b972734988854c"
     }
    },
    "29296ecc632548fe91fc5183c5220e03": {
     "model_module": "@jupyter-widgets/controls",
     "model_module_version": "1.5.0",
     "model_name": "FloatProgressModel",
     "state": {
      "_dom_classes": [],
      "_model_module": "@jupyter-widgets/controls",
      "_model_module_version": "1.5.0",
      "_model_name": "FloatProgressModel",
      "_view_count": null,
      "_view_module": "@jupyter-widgets/controls",
      "_view_module_version": "1.5.0",
      "_view_name": "ProgressView",
      "bar_style": "",
      "description": "",
      "description_tooltip": null,
      "layout": "IPY_MODEL_6925b231ddd94ceab69eaa0cdd22a83f",
      "max": 50000,
      "min": 0,
      "orientation": "horizontal",
      "style": "IPY_MODEL_d163aaaa0df54fec8f9ef66356c4d10b",
      "value": 50000
     }
    },
    "295cb1365ae147798716fd4627ff83c8": {
     "model_module": "@jupyter-widgets/controls",
     "model_module_version": "1.5.0",
     "model_name": "HTMLModel",
     "state": {
      "_dom_classes": [],
      "_model_module": "@jupyter-widgets/controls",
      "_model_module_version": "1.5.0",
      "_model_name": "HTMLModel",
      "_view_count": null,
      "_view_module": "@jupyter-widgets/controls",
      "_view_module_version": "1.5.0",
      "_view_name": "HTMLView",
      "description": "",
      "description_tooltip": null,
      "layout": "IPY_MODEL_223352a22ac947128057b923193102e9",
      "placeholder": "​",
      "style": "IPY_MODEL_a4bb283ce71d4117bf3e821dfdee4ebe",
      "value": " 34541/50000 [00:00&lt;00:00, 187509.36 examples/s]"
     }
    },
    "2a00d7e8c8684547ab1b469b7820f820": {
     "model_module": "@jupyter-widgets/base",
     "model_module_version": "1.2.0",
     "model_name": "LayoutModel",
     "state": {
      "_model_module": "@jupyter-widgets/base",
      "_model_module_version": "1.2.0",
      "_model_name": "LayoutModel",
      "_view_count": null,
      "_view_module": "@jupyter-widgets/base",
      "_view_module_version": "1.2.0",
      "_view_name": "LayoutView",
      "align_content": null,
      "align_items": null,
      "align_self": null,
      "border": null,
      "bottom": null,
      "display": null,
      "flex": null,
      "flex_flow": null,
      "grid_area": null,
      "grid_auto_columns": null,
      "grid_auto_flow": null,
      "grid_auto_rows": null,
      "grid_column": null,
      "grid_gap": null,
      "grid_row": null,
      "grid_template_areas": null,
      "grid_template_columns": null,
      "grid_template_rows": null,
      "height": null,
      "justify_content": null,
      "justify_items": null,
      "left": null,
      "margin": null,
      "max_height": null,
      "max_width": null,
      "min_height": null,
      "min_width": null,
      "object_fit": null,
      "object_position": null,
      "order": null,
      "overflow": null,
      "overflow_x": null,
      "overflow_y": null,
      "padding": null,
      "right": null,
      "top": null,
      "visibility": "hidden",
      "width": null
     }
    },
    "2f0a7b75aafb4142b944e3c0b66e420a": {
     "model_module": "@jupyter-widgets/base",
     "model_module_version": "1.2.0",
     "model_name": "LayoutModel",
     "state": {
      "_model_module": "@jupyter-widgets/base",
      "_model_module_version": "1.2.0",
      "_model_name": "LayoutModel",
      "_view_count": null,
      "_view_module": "@jupyter-widgets/base",
      "_view_module_version": "1.2.0",
      "_view_name": "LayoutView",
      "align_content": null,
      "align_items": null,
      "align_self": null,
      "border": null,
      "bottom": null,
      "display": null,
      "flex": null,
      "flex_flow": null,
      "grid_area": null,
      "grid_auto_columns": null,
      "grid_auto_flow": null,
      "grid_auto_rows": null,
      "grid_column": null,
      "grid_gap": null,
      "grid_row": null,
      "grid_template_areas": null,
      "grid_template_columns": null,
      "grid_template_rows": null,
      "height": null,
      "justify_content": null,
      "justify_items": null,
      "left": null,
      "margin": null,
      "max_height": null,
      "max_width": null,
      "min_height": null,
      "min_width": null,
      "object_fit": null,
      "object_position": null,
      "order": null,
      "overflow": null,
      "overflow_x": null,
      "overflow_y": null,
      "padding": null,
      "right": null,
      "top": null,
      "visibility": null,
      "width": "20px"
     }
    },
    "30bdb013a2214017b290baaeb53af5f0": {
     "model_module": "@jupyter-widgets/base",
     "model_module_version": "1.2.0",
     "model_name": "LayoutModel",
     "state": {
      "_model_module": "@jupyter-widgets/base",
      "_model_module_version": "1.2.0",
      "_model_name": "LayoutModel",
      "_view_count": null,
      "_view_module": "@jupyter-widgets/base",
      "_view_module_version": "1.2.0",
      "_view_name": "LayoutView",
      "align_content": null,
      "align_items": null,
      "align_self": null,
      "border": null,
      "bottom": null,
      "display": null,
      "flex": null,
      "flex_flow": null,
      "grid_area": null,
      "grid_auto_columns": null,
      "grid_auto_flow": null,
      "grid_auto_rows": null,
      "grid_column": null,
      "grid_gap": null,
      "grid_row": null,
      "grid_template_areas": null,
      "grid_template_columns": null,
      "grid_template_rows": null,
      "height": null,
      "justify_content": null,
      "justify_items": null,
      "left": null,
      "margin": null,
      "max_height": null,
      "max_width": null,
      "min_height": null,
      "min_width": null,
      "object_fit": null,
      "object_position": null,
      "order": null,
      "overflow": null,
      "overflow_x": null,
      "overflow_y": null,
      "padding": null,
      "right": null,
      "top": null,
      "visibility": null,
      "width": null
     }
    },
    "30fd7459e25a4664a85f906a67c7ece6": {
     "model_module": "@jupyter-widgets/controls",
     "model_module_version": "1.5.0",
     "model_name": "DescriptionStyleModel",
     "state": {
      "_model_module": "@jupyter-widgets/controls",
      "_model_module_version": "1.5.0",
      "_model_name": "DescriptionStyleModel",
      "_view_count": null,
      "_view_module": "@jupyter-widgets/base",
      "_view_module_version": "1.2.0",
      "_view_name": "StyleView",
      "description_width": ""
     }
    },
    "382151627373427dbdfbc098df1f0991": {
     "model_module": "@jupyter-widgets/base",
     "model_module_version": "1.2.0",
     "model_name": "LayoutModel",
     "state": {
      "_model_module": "@jupyter-widgets/base",
      "_model_module_version": "1.2.0",
      "_model_name": "LayoutModel",
      "_view_count": null,
      "_view_module": "@jupyter-widgets/base",
      "_view_module_version": "1.2.0",
      "_view_name": "LayoutView",
      "align_content": null,
      "align_items": null,
      "align_self": null,
      "border": null,
      "bottom": null,
      "display": null,
      "flex": null,
      "flex_flow": null,
      "grid_area": null,
      "grid_auto_columns": null,
      "grid_auto_flow": null,
      "grid_auto_rows": null,
      "grid_column": null,
      "grid_gap": null,
      "grid_row": null,
      "grid_template_areas": null,
      "grid_template_columns": null,
      "grid_template_rows": null,
      "height": null,
      "justify_content": null,
      "justify_items": null,
      "left": null,
      "margin": null,
      "max_height": null,
      "max_width": null,
      "min_height": null,
      "min_width": null,
      "object_fit": null,
      "object_position": null,
      "order": null,
      "overflow": null,
      "overflow_x": null,
      "overflow_y": null,
      "padding": null,
      "right": null,
      "top": null,
      "visibility": null,
      "width": null
     }
    },
    "38bb6ce3b0264ffd8b5adfb143831b7f": {
     "model_module": "@jupyter-widgets/controls",
     "model_module_version": "1.5.0",
     "model_name": "DescriptionStyleModel",
     "state": {
      "_model_module": "@jupyter-widgets/controls",
      "_model_module_version": "1.5.0",
      "_model_name": "DescriptionStyleModel",
      "_view_count": null,
      "_view_module": "@jupyter-widgets/base",
      "_view_module_version": "1.2.0",
      "_view_name": "StyleView",
      "description_width": ""
     }
    },
    "3ca920e2ea8e47c2885c757847f71bbe": {
     "model_module": "@jupyter-widgets/controls",
     "model_module_version": "1.5.0",
     "model_name": "HTMLModel",
     "state": {
      "_dom_classes": [],
      "_model_module": "@jupyter-widgets/controls",
      "_model_module_version": "1.5.0",
      "_model_name": "HTMLModel",
      "_view_count": null,
      "_view_module": "@jupyter-widgets/controls",
      "_view_module_version": "1.5.0",
      "_view_name": "HTMLView",
      "description": "",
      "description_tooltip": null,
      "layout": "IPY_MODEL_30bdb013a2214017b290baaeb53af5f0",
      "placeholder": "​",
      "style": "IPY_MODEL_7e197675f9964e29b4edf08881b4aeeb",
      "value": "Shuffling /root/tensorflow_datasets/imdb_reviews/plain_text/1.0.0.incompleteXLEBBH/imdb_reviews-unsupervised.tfrecord*...:  69%"
     }
    },
    "42878d729ada423185f2f0404cd112b5": {
     "model_module": "@jupyter-widgets/base",
     "model_module_version": "1.2.0",
     "model_name": "LayoutModel",
     "state": {
      "_model_module": "@jupyter-widgets/base",
      "_model_module_version": "1.2.0",
      "_model_name": "LayoutModel",
      "_view_count": null,
      "_view_module": "@jupyter-widgets/base",
      "_view_module_version": "1.2.0",
      "_view_name": "LayoutView",
      "align_content": null,
      "align_items": null,
      "align_self": null,
      "border": null,
      "bottom": null,
      "display": null,
      "flex": null,
      "flex_flow": null,
      "grid_area": null,
      "grid_auto_columns": null,
      "grid_auto_flow": null,
      "grid_auto_rows": null,
      "grid_column": null,
      "grid_gap": null,
      "grid_row": null,
      "grid_template_areas": null,
      "grid_template_columns": null,
      "grid_template_rows": null,
      "height": null,
      "justify_content": null,
      "justify_items": null,
      "left": null,
      "margin": null,
      "max_height": null,
      "max_width": null,
      "min_height": null,
      "min_width": null,
      "object_fit": null,
      "object_position": null,
      "order": null,
      "overflow": null,
      "overflow_x": null,
      "overflow_y": null,
      "padding": null,
      "right": null,
      "top": null,
      "visibility": null,
      "width": null
     }
    },
    "431976ea77ed4198a7653ca99b21dc67": {
     "model_module": "@jupyter-widgets/controls",
     "model_module_version": "1.5.0",
     "model_name": "DescriptionStyleModel",
     "state": {
      "_model_module": "@jupyter-widgets/controls",
      "_model_module_version": "1.5.0",
      "_model_name": "DescriptionStyleModel",
      "_view_count": null,
      "_view_module": "@jupyter-widgets/base",
      "_view_module_version": "1.2.0",
      "_view_name": "StyleView",
      "description_width": ""
     }
    },
    "44bbd73fdc9441d89731fc839e840f97": {
     "model_module": "@jupyter-widgets/base",
     "model_module_version": "1.2.0",
     "model_name": "LayoutModel",
     "state": {
      "_model_module": "@jupyter-widgets/base",
      "_model_module_version": "1.2.0",
      "_model_name": "LayoutModel",
      "_view_count": null,
      "_view_module": "@jupyter-widgets/base",
      "_view_module_version": "1.2.0",
      "_view_name": "LayoutView",
      "align_content": null,
      "align_items": null,
      "align_self": null,
      "border": null,
      "bottom": null,
      "display": null,
      "flex": null,
      "flex_flow": null,
      "grid_area": null,
      "grid_auto_columns": null,
      "grid_auto_flow": null,
      "grid_auto_rows": null,
      "grid_column": null,
      "grid_gap": null,
      "grid_row": null,
      "grid_template_areas": null,
      "grid_template_columns": null,
      "grid_template_rows": null,
      "height": null,
      "justify_content": null,
      "justify_items": null,
      "left": null,
      "margin": null,
      "max_height": null,
      "max_width": null,
      "min_height": null,
      "min_width": null,
      "object_fit": null,
      "object_position": null,
      "order": null,
      "overflow": null,
      "overflow_x": null,
      "overflow_y": null,
      "padding": null,
      "right": null,
      "top": null,
      "visibility": null,
      "width": null
     }
    },
    "463c852d7b134831a86233b1e12851ed": {
     "model_module": "@jupyter-widgets/controls",
     "model_module_version": "1.5.0",
     "model_name": "ProgressStyleModel",
     "state": {
      "_model_module": "@jupyter-widgets/controls",
      "_model_module_version": "1.5.0",
      "_model_name": "ProgressStyleModel",
      "_view_count": null,
      "_view_module": "@jupyter-widgets/base",
      "_view_module_version": "1.2.0",
      "_view_name": "StyleView",
      "bar_color": null,
      "description_width": ""
     }
    },
    "4cadf5b54c2d423ab1314e92074add31": {
     "model_module": "@jupyter-widgets/base",
     "model_module_version": "1.2.0",
     "model_name": "LayoutModel",
     "state": {
      "_model_module": "@jupyter-widgets/base",
      "_model_module_version": "1.2.0",
      "_model_name": "LayoutModel",
      "_view_count": null,
      "_view_module": "@jupyter-widgets/base",
      "_view_module_version": "1.2.0",
      "_view_name": "LayoutView",
      "align_content": null,
      "align_items": null,
      "align_self": null,
      "border": null,
      "bottom": null,
      "display": null,
      "flex": null,
      "flex_flow": null,
      "grid_area": null,
      "grid_auto_columns": null,
      "grid_auto_flow": null,
      "grid_auto_rows": null,
      "grid_column": null,
      "grid_gap": null,
      "grid_row": null,
      "grid_template_areas": null,
      "grid_template_columns": null,
      "grid_template_rows": null,
      "height": null,
      "justify_content": null,
      "justify_items": null,
      "left": null,
      "margin": null,
      "max_height": null,
      "max_width": null,
      "min_height": null,
      "min_width": null,
      "object_fit": null,
      "object_position": null,
      "order": null,
      "overflow": null,
      "overflow_x": null,
      "overflow_y": null,
      "padding": null,
      "right": null,
      "top": null,
      "visibility": null,
      "width": null
     }
    },
    "4e8990a41b0247b499c6204b66e66540": {
     "model_module": "@jupyter-widgets/base",
     "model_module_version": "1.2.0",
     "model_name": "LayoutModel",
     "state": {
      "_model_module": "@jupyter-widgets/base",
      "_model_module_version": "1.2.0",
      "_model_name": "LayoutModel",
      "_view_count": null,
      "_view_module": "@jupyter-widgets/base",
      "_view_module_version": "1.2.0",
      "_view_name": "LayoutView",
      "align_content": null,
      "align_items": null,
      "align_self": null,
      "border": null,
      "bottom": null,
      "display": null,
      "flex": null,
      "flex_flow": null,
      "grid_area": null,
      "grid_auto_columns": null,
      "grid_auto_flow": null,
      "grid_auto_rows": null,
      "grid_column": null,
      "grid_gap": null,
      "grid_row": null,
      "grid_template_areas": null,
      "grid_template_columns": null,
      "grid_template_rows": null,
      "height": null,
      "justify_content": null,
      "justify_items": null,
      "left": null,
      "margin": null,
      "max_height": null,
      "max_width": null,
      "min_height": null,
      "min_width": null,
      "object_fit": null,
      "object_position": null,
      "order": null,
      "overflow": null,
      "overflow_x": null,
      "overflow_y": null,
      "padding": null,
      "right": null,
      "top": null,
      "visibility": null,
      "width": null
     }
    },
    "4ed79b8f7693453080abf6892f1f4dc4": {
     "model_module": "@jupyter-widgets/base",
     "model_module_version": "1.2.0",
     "model_name": "LayoutModel",
     "state": {
      "_model_module": "@jupyter-widgets/base",
      "_model_module_version": "1.2.0",
      "_model_name": "LayoutModel",
      "_view_count": null,
      "_view_module": "@jupyter-widgets/base",
      "_view_module_version": "1.2.0",
      "_view_name": "LayoutView",
      "align_content": null,
      "align_items": null,
      "align_self": null,
      "border": null,
      "bottom": null,
      "display": null,
      "flex": null,
      "flex_flow": null,
      "grid_area": null,
      "grid_auto_columns": null,
      "grid_auto_flow": null,
      "grid_auto_rows": null,
      "grid_column": null,
      "grid_gap": null,
      "grid_row": null,
      "grid_template_areas": null,
      "grid_template_columns": null,
      "grid_template_rows": null,
      "height": null,
      "justify_content": null,
      "justify_items": null,
      "left": null,
      "margin": null,
      "max_height": null,
      "max_width": null,
      "min_height": null,
      "min_width": null,
      "object_fit": null,
      "object_position": null,
      "order": null,
      "overflow": null,
      "overflow_x": null,
      "overflow_y": null,
      "padding": null,
      "right": null,
      "top": null,
      "visibility": null,
      "width": null
     }
    },
    "4f9543a19e9c478bafc15ff32c225069": {
     "model_module": "@jupyter-widgets/base",
     "model_module_version": "1.2.0",
     "model_name": "LayoutModel",
     "state": {
      "_model_module": "@jupyter-widgets/base",
      "_model_module_version": "1.2.0",
      "_model_name": "LayoutModel",
      "_view_count": null,
      "_view_module": "@jupyter-widgets/base",
      "_view_module_version": "1.2.0",
      "_view_name": "LayoutView",
      "align_content": null,
      "align_items": null,
      "align_self": null,
      "border": null,
      "bottom": null,
      "display": null,
      "flex": null,
      "flex_flow": null,
      "grid_area": null,
      "grid_auto_columns": null,
      "grid_auto_flow": null,
      "grid_auto_rows": null,
      "grid_column": null,
      "grid_gap": null,
      "grid_row": null,
      "grid_template_areas": null,
      "grid_template_columns": null,
      "grid_template_rows": null,
      "height": null,
      "justify_content": null,
      "justify_items": null,
      "left": null,
      "margin": null,
      "max_height": null,
      "max_width": null,
      "min_height": null,
      "min_width": null,
      "object_fit": null,
      "object_position": null,
      "order": null,
      "overflow": null,
      "overflow_x": null,
      "overflow_y": null,
      "padding": null,
      "right": null,
      "top": null,
      "visibility": null,
      "width": null
     }
    },
    "5161f0962f844b10bd435d165d7f2f26": {
     "model_module": "@jupyter-widgets/base",
     "model_module_version": "1.2.0",
     "model_name": "LayoutModel",
     "state": {
      "_model_module": "@jupyter-widgets/base",
      "_model_module_version": "1.2.0",
      "_model_name": "LayoutModel",
      "_view_count": null,
      "_view_module": "@jupyter-widgets/base",
      "_view_module_version": "1.2.0",
      "_view_name": "LayoutView",
      "align_content": null,
      "align_items": null,
      "align_self": null,
      "border": null,
      "bottom": null,
      "display": null,
      "flex": null,
      "flex_flow": null,
      "grid_area": null,
      "grid_auto_columns": null,
      "grid_auto_flow": null,
      "grid_auto_rows": null,
      "grid_column": null,
      "grid_gap": null,
      "grid_row": null,
      "grid_template_areas": null,
      "grid_template_columns": null,
      "grid_template_rows": null,
      "height": null,
      "justify_content": null,
      "justify_items": null,
      "left": null,
      "margin": null,
      "max_height": null,
      "max_width": null,
      "min_height": null,
      "min_width": null,
      "object_fit": null,
      "object_position": null,
      "order": null,
      "overflow": null,
      "overflow_x": null,
      "overflow_y": null,
      "padding": null,
      "right": null,
      "top": null,
      "visibility": null,
      "width": null
     }
    },
    "51b20c3cab794e02bfe60983245fd8a5": {
     "model_module": "@jupyter-widgets/controls",
     "model_module_version": "1.5.0",
     "model_name": "HTMLModel",
     "state": {
      "_dom_classes": [],
      "_model_module": "@jupyter-widgets/controls",
      "_model_module_version": "1.5.0",
      "_model_name": "HTMLModel",
      "_view_count": null,
      "_view_module": "@jupyter-widgets/controls",
      "_view_module_version": "1.5.0",
      "_view_name": "HTMLView",
      "description": "",
      "description_tooltip": null,
      "layout": "IPY_MODEL_89a5cc73cbbe4bd592f80e7bab9a1809",
      "placeholder": "​",
      "style": "IPY_MODEL_c975c54a0303471189b9f7a1a64feaa5",
      "value": " 12962/25000 [00:00&lt;00:00, 129600.97 examples/s]"
     }
    },
    "52182ca6e4ac466a9c3a9728dd8689a5": {
     "model_module": "@jupyter-widgets/base",
     "model_module_version": "1.2.0",
     "model_name": "LayoutModel",
     "state": {
      "_model_module": "@jupyter-widgets/base",
      "_model_module_version": "1.2.0",
      "_model_name": "LayoutModel",
      "_view_count": null,
      "_view_module": "@jupyter-widgets/base",
      "_view_module_version": "1.2.0",
      "_view_name": "LayoutView",
      "align_content": null,
      "align_items": null,
      "align_self": null,
      "border": null,
      "bottom": null,
      "display": null,
      "flex": null,
      "flex_flow": null,
      "grid_area": null,
      "grid_auto_columns": null,
      "grid_auto_flow": null,
      "grid_auto_rows": null,
      "grid_column": null,
      "grid_gap": null,
      "grid_row": null,
      "grid_template_areas": null,
      "grid_template_columns": null,
      "grid_template_rows": null,
      "height": null,
      "justify_content": null,
      "justify_items": null,
      "left": null,
      "margin": null,
      "max_height": null,
      "max_width": null,
      "min_height": null,
      "min_width": null,
      "object_fit": null,
      "object_position": null,
      "order": null,
      "overflow": null,
      "overflow_x": null,
      "overflow_y": null,
      "padding": null,
      "right": null,
      "top": null,
      "visibility": "hidden",
      "width": null
     }
    },
    "56c421a004b14f12a36264abd6520a2d": {
     "model_module": "@jupyter-widgets/base",
     "model_module_version": "1.2.0",
     "model_name": "LayoutModel",
     "state": {
      "_model_module": "@jupyter-widgets/base",
      "_model_module_version": "1.2.0",
      "_model_name": "LayoutModel",
      "_view_count": null,
      "_view_module": "@jupyter-widgets/base",
      "_view_module_version": "1.2.0",
      "_view_name": "LayoutView",
      "align_content": null,
      "align_items": null,
      "align_self": null,
      "border": null,
      "bottom": null,
      "display": null,
      "flex": null,
      "flex_flow": null,
      "grid_area": null,
      "grid_auto_columns": null,
      "grid_auto_flow": null,
      "grid_auto_rows": null,
      "grid_column": null,
      "grid_gap": null,
      "grid_row": null,
      "grid_template_areas": null,
      "grid_template_columns": null,
      "grid_template_rows": null,
      "height": null,
      "justify_content": null,
      "justify_items": null,
      "left": null,
      "margin": null,
      "max_height": null,
      "max_width": null,
      "min_height": null,
      "min_width": null,
      "object_fit": null,
      "object_position": null,
      "order": null,
      "overflow": null,
      "overflow_x": null,
      "overflow_y": null,
      "padding": null,
      "right": null,
      "top": null,
      "visibility": "hidden",
      "width": null
     }
    },
    "5aaddcbcd94f4994abf4c5d126d46783": {
     "model_module": "@jupyter-widgets/controls",
     "model_module_version": "1.5.0",
     "model_name": "HBoxModel",
     "state": {
      "_dom_classes": [],
      "_model_module": "@jupyter-widgets/controls",
      "_model_module_version": "1.5.0",
      "_model_name": "HBoxModel",
      "_view_count": null,
      "_view_module": "@jupyter-widgets/controls",
      "_view_module_version": "1.5.0",
      "_view_name": "HBoxView",
      "box_style": "",
      "children": [
       "IPY_MODEL_e60ef685d9704ea8a7313e7ca2a8ab0b",
       "IPY_MODEL_b472656ca670415f85071aafd5088811",
       "IPY_MODEL_51b20c3cab794e02bfe60983245fd8a5"
      ],
      "layout": "IPY_MODEL_d7f8c7e0b8ec4a90ade1d42f0cd776a2"
     }
    },
    "5b9886dccefb4f0c89a96ab02e448d09": {
     "model_module": "@jupyter-widgets/base",
     "model_module_version": "1.2.0",
     "model_name": "LayoutModel",
     "state": {
      "_model_module": "@jupyter-widgets/base",
      "_model_module_version": "1.2.0",
      "_model_name": "LayoutModel",
      "_view_count": null,
      "_view_module": "@jupyter-widgets/base",
      "_view_module_version": "1.2.0",
      "_view_name": "LayoutView",
      "align_content": null,
      "align_items": null,
      "align_self": null,
      "border": null,
      "bottom": null,
      "display": null,
      "flex": null,
      "flex_flow": null,
      "grid_area": null,
      "grid_auto_columns": null,
      "grid_auto_flow": null,
      "grid_auto_rows": null,
      "grid_column": null,
      "grid_gap": null,
      "grid_row": null,
      "grid_template_areas": null,
      "grid_template_columns": null,
      "grid_template_rows": null,
      "height": null,
      "justify_content": null,
      "justify_items": null,
      "left": null,
      "margin": null,
      "max_height": null,
      "max_width": null,
      "min_height": null,
      "min_width": null,
      "object_fit": null,
      "object_position": null,
      "order": null,
      "overflow": null,
      "overflow_x": null,
      "overflow_y": null,
      "padding": null,
      "right": null,
      "top": null,
      "visibility": null,
      "width": null
     }
    },
    "5d7bb8069eb04d15ac817ae951d61ae6": {
     "model_module": "@jupyter-widgets/controls",
     "model_module_version": "1.5.0",
     "model_name": "HBoxModel",
     "state": {
      "_dom_classes": [],
      "_model_module": "@jupyter-widgets/controls",
      "_model_module_version": "1.5.0",
      "_model_name": "HBoxModel",
      "_view_count": null,
      "_view_module": "@jupyter-widgets/controls",
      "_view_module_version": "1.5.0",
      "_view_name": "HBoxView",
      "box_style": "",
      "children": [
       "IPY_MODEL_7ab8a4db2f1b444fbcfcd3466192689a",
       "IPY_MODEL_bddaab3a79b5463195823d6797e87382",
       "IPY_MODEL_853fcb2221584d5085cc90f56da4fd6b"
      ],
      "layout": "IPY_MODEL_bce7ad880fa5457ba101bed1d13b2296"
     }
    },
    "5d974c61242641d4a82db3c8a482b778": {
     "model_module": "@jupyter-widgets/controls",
     "model_module_version": "1.5.0",
     "model_name": "FloatProgressModel",
     "state": {
      "_dom_classes": [],
      "_model_module": "@jupyter-widgets/controls",
      "_model_module_version": "1.5.0",
      "_model_name": "FloatProgressModel",
      "_view_count": null,
      "_view_module": "@jupyter-widgets/controls",
      "_view_module_version": "1.5.0",
      "_view_name": "ProgressView",
      "bar_style": "success",
      "description": "",
      "description_tooltip": null,
      "layout": "IPY_MODEL_2f0a7b75aafb4142b944e3c0b66e420a",
      "max": 1,
      "min": 0,
      "orientation": "horizontal",
      "style": "IPY_MODEL_9f0187ea5ed141489ac5e25edef362a4",
      "value": 1
     }
    },
    "5fc12968a57f428e89245de6d160a860": {
     "model_module": "@jupyter-widgets/controls",
     "model_module_version": "1.5.0",
     "model_name": "ProgressStyleModel",
     "state": {
      "_model_module": "@jupyter-widgets/controls",
      "_model_module_version": "1.5.0",
      "_model_name": "ProgressStyleModel",
      "_view_count": null,
      "_view_module": "@jupyter-widgets/base",
      "_view_module_version": "1.2.0",
      "_view_name": "StyleView",
      "bar_color": null,
      "description_width": ""
     }
    },
    "63344e55c29247ec8c6063dca928fa5f": {
     "model_module": "@jupyter-widgets/base",
     "model_module_version": "1.2.0",
     "model_name": "LayoutModel",
     "state": {
      "_model_module": "@jupyter-widgets/base",
      "_model_module_version": "1.2.0",
      "_model_name": "LayoutModel",
      "_view_count": null,
      "_view_module": "@jupyter-widgets/base",
      "_view_module_version": "1.2.0",
      "_view_name": "LayoutView",
      "align_content": null,
      "align_items": null,
      "align_self": null,
      "border": null,
      "bottom": null,
      "display": null,
      "flex": null,
      "flex_flow": null,
      "grid_area": null,
      "grid_auto_columns": null,
      "grid_auto_flow": null,
      "grid_auto_rows": null,
      "grid_column": null,
      "grid_gap": null,
      "grid_row": null,
      "grid_template_areas": null,
      "grid_template_columns": null,
      "grid_template_rows": null,
      "height": null,
      "justify_content": null,
      "justify_items": null,
      "left": null,
      "margin": null,
      "max_height": null,
      "max_width": null,
      "min_height": null,
      "min_width": null,
      "object_fit": null,
      "object_position": null,
      "order": null,
      "overflow": null,
      "overflow_x": null,
      "overflow_y": null,
      "padding": null,
      "right": null,
      "top": null,
      "visibility": null,
      "width": null
     }
    },
    "68e75cd66cbf4bcc92355aabd74cb3be": {
     "model_module": "@jupyter-widgets/base",
     "model_module_version": "1.2.0",
     "model_name": "LayoutModel",
     "state": {
      "_model_module": "@jupyter-widgets/base",
      "_model_module_version": "1.2.0",
      "_model_name": "LayoutModel",
      "_view_count": null,
      "_view_module": "@jupyter-widgets/base",
      "_view_module_version": "1.2.0",
      "_view_name": "LayoutView",
      "align_content": null,
      "align_items": null,
      "align_self": null,
      "border": null,
      "bottom": null,
      "display": null,
      "flex": null,
      "flex_flow": null,
      "grid_area": null,
      "grid_auto_columns": null,
      "grid_auto_flow": null,
      "grid_auto_rows": null,
      "grid_column": null,
      "grid_gap": null,
      "grid_row": null,
      "grid_template_areas": null,
      "grid_template_columns": null,
      "grid_template_rows": null,
      "height": null,
      "justify_content": null,
      "justify_items": null,
      "left": null,
      "margin": null,
      "max_height": null,
      "max_width": null,
      "min_height": null,
      "min_width": null,
      "object_fit": null,
      "object_position": null,
      "order": null,
      "overflow": null,
      "overflow_x": null,
      "overflow_y": null,
      "padding": null,
      "right": null,
      "top": null,
      "visibility": null,
      "width": null
     }
    },
    "6925b231ddd94ceab69eaa0cdd22a83f": {
     "model_module": "@jupyter-widgets/base",
     "model_module_version": "1.2.0",
     "model_name": "LayoutModel",
     "state": {
      "_model_module": "@jupyter-widgets/base",
      "_model_module_version": "1.2.0",
      "_model_name": "LayoutModel",
      "_view_count": null,
      "_view_module": "@jupyter-widgets/base",
      "_view_module_version": "1.2.0",
      "_view_name": "LayoutView",
      "align_content": null,
      "align_items": null,
      "align_self": null,
      "border": null,
      "bottom": null,
      "display": null,
      "flex": null,
      "flex_flow": null,
      "grid_area": null,
      "grid_auto_columns": null,
      "grid_auto_flow": null,
      "grid_auto_rows": null,
      "grid_column": null,
      "grid_gap": null,
      "grid_row": null,
      "grid_template_areas": null,
      "grid_template_columns": null,
      "grid_template_rows": null,
      "height": null,
      "justify_content": null,
      "justify_items": null,
      "left": null,
      "margin": null,
      "max_height": null,
      "max_width": null,
      "min_height": null,
      "min_width": null,
      "object_fit": null,
      "object_position": null,
      "order": null,
      "overflow": null,
      "overflow_x": null,
      "overflow_y": null,
      "padding": null,
      "right": null,
      "top": null,
      "visibility": null,
      "width": null
     }
    },
    "6ea3527ced334f509896edaf4403f1d1": {
     "model_module": "@jupyter-widgets/controls",
     "model_module_version": "1.5.0",
     "model_name": "HBoxModel",
     "state": {
      "_dom_classes": [],
      "_model_module": "@jupyter-widgets/controls",
      "_model_module_version": "1.5.0",
      "_model_name": "HBoxModel",
      "_view_count": null,
      "_view_module": "@jupyter-widgets/controls",
      "_view_module_version": "1.5.0",
      "_view_name": "HBoxView",
      "box_style": "",
      "children": [
       "IPY_MODEL_6ed9622e26cf4eeabe4fae3a002cb270",
       "IPY_MODEL_ebcd1e9b7d094fa49a70aa1ab649a32c",
       "IPY_MODEL_df5681a89cd54ac4af64dc8dfaefd52b"
      ],
      "layout": "IPY_MODEL_56c421a004b14f12a36264abd6520a2d"
     }
    },
    "6ed9622e26cf4eeabe4fae3a002cb270": {
     "model_module": "@jupyter-widgets/controls",
     "model_module_version": "1.5.0",
     "model_name": "HTMLModel",
     "state": {
      "_dom_classes": [],
      "_model_module": "@jupyter-widgets/controls",
      "_model_module_version": "1.5.0",
      "_model_name": "HTMLModel",
      "_view_count": null,
      "_view_module": "@jupyter-widgets/controls",
      "_view_module_version": "1.5.0",
      "_view_name": "HTMLView",
      "description": "",
      "description_tooltip": null,
      "layout": "IPY_MODEL_df77d80ffd7940b593cbb5c21e458844",
      "placeholder": "​",
      "style": "IPY_MODEL_ff4fbf2224f64e18b65370d47c14e922",
      "value": "Generating test examples...:  99%"
     }
    },
    "70ae516c67664873adbde43b557a3983": {
     "model_module": "@jupyter-widgets/controls",
     "model_module_version": "1.5.0",
     "model_name": "HTMLModel",
     "state": {
      "_dom_classes": [],
      "_model_module": "@jupyter-widgets/controls",
      "_model_module_version": "1.5.0",
      "_model_name": "HTMLModel",
      "_view_count": null,
      "_view_module": "@jupyter-widgets/controls",
      "_view_module_version": "1.5.0",
      "_view_name": "HTMLView",
      "description": "",
      "description_tooltip": null,
      "layout": "IPY_MODEL_4ed79b8f7693453080abf6892f1f4dc4",
      "placeholder": "​",
      "style": "IPY_MODEL_431976ea77ed4198a7653ca99b21dc67",
      "value": "Generating train examples...: 100%"
     }
    },
    "732661c92bac4075bf9b4f1f1934ea7f": {
     "model_module": "@jupyter-widgets/base",
     "model_module_version": "1.2.0",
     "model_name": "LayoutModel",
     "state": {
      "_model_module": "@jupyter-widgets/base",
      "_model_module_version": "1.2.0",
      "_model_name": "LayoutModel",
      "_view_count": null,
      "_view_module": "@jupyter-widgets/base",
      "_view_module_version": "1.2.0",
      "_view_name": "LayoutView",
      "align_content": null,
      "align_items": null,
      "align_self": null,
      "border": null,
      "bottom": null,
      "display": null,
      "flex": null,
      "flex_flow": null,
      "grid_area": null,
      "grid_auto_columns": null,
      "grid_auto_flow": null,
      "grid_auto_rows": null,
      "grid_column": null,
      "grid_gap": null,
      "grid_row": null,
      "grid_template_areas": null,
      "grid_template_columns": null,
      "grid_template_rows": null,
      "height": null,
      "justify_content": null,
      "justify_items": null,
      "left": null,
      "margin": null,
      "max_height": null,
      "max_width": null,
      "min_height": null,
      "min_width": null,
      "object_fit": null,
      "object_position": null,
      "order": null,
      "overflow": null,
      "overflow_x": null,
      "overflow_y": null,
      "padding": null,
      "right": null,
      "top": null,
      "visibility": null,
      "width": null
     }
    },
    "73dc008f48fe4045ae996856ee339819": {
     "model_module": "@jupyter-widgets/controls",
     "model_module_version": "1.5.0",
     "model_name": "HBoxModel",
     "state": {
      "_dom_classes": [],
      "_model_module": "@jupyter-widgets/controls",
      "_model_module_version": "1.5.0",
      "_model_name": "HBoxModel",
      "_view_count": null,
      "_view_module": "@jupyter-widgets/controls",
      "_view_module_version": "1.5.0",
      "_view_name": "HBoxView",
      "box_style": "",
      "children": [
       "IPY_MODEL_70ae516c67664873adbde43b557a3983",
       "IPY_MODEL_799a944eef5e4dbb9a395bc428de3889",
       "IPY_MODEL_96ec9ca477b14c67977431c50fa8d05c"
      ],
      "layout": "IPY_MODEL_52182ca6e4ac466a9c3a9728dd8689a5"
     }
    },
    "799a944eef5e4dbb9a395bc428de3889": {
     "model_module": "@jupyter-widgets/controls",
     "model_module_version": "1.5.0",
     "model_name": "FloatProgressModel",
     "state": {
      "_dom_classes": [],
      "_model_module": "@jupyter-widgets/controls",
      "_model_module_version": "1.5.0",
      "_model_name": "FloatProgressModel",
      "_view_count": null,
      "_view_module": "@jupyter-widgets/controls",
      "_view_module_version": "1.5.0",
      "_view_name": "ProgressView",
      "bar_style": "",
      "description": "",
      "description_tooltip": null,
      "layout": "IPY_MODEL_edb786f9b0184a8eb6e7af614042ba61",
      "max": 25000,
      "min": 0,
      "orientation": "horizontal",
      "style": "IPY_MODEL_9bb383c4c8f847f18d2eff126c075b1f",
      "value": 25000
     }
    },
    "7ab8a4db2f1b444fbcfcd3466192689a": {
     "model_module": "@jupyter-widgets/controls",
     "model_module_version": "1.5.0",
     "model_name": "HTMLModel",
     "state": {
      "_dom_classes": [],
      "_model_module": "@jupyter-widgets/controls",
      "_model_module_version": "1.5.0",
      "_model_name": "HTMLModel",
      "_view_count": null,
      "_view_module": "@jupyter-widgets/controls",
      "_view_module_version": "1.5.0",
      "_view_name": "HTMLView",
      "description": "",
      "description_tooltip": null,
      "layout": "IPY_MODEL_ec7365a68e44498e8e99ae8c375fe25c",
      "placeholder": "​",
      "style": "IPY_MODEL_38bb6ce3b0264ffd8b5adfb143831b7f",
      "value": "Dl Size...: 100%"
     }
    },
    "7c8474a9016c4dd7a7b972734988854c": {
     "model_module": "@jupyter-widgets/base",
     "model_module_version": "1.2.0",
     "model_name": "LayoutModel",
     "state": {
      "_model_module": "@jupyter-widgets/base",
      "_model_module_version": "1.2.0",
      "_model_name": "LayoutModel",
      "_view_count": null,
      "_view_module": "@jupyter-widgets/base",
      "_view_module_version": "1.2.0",
      "_view_name": "LayoutView",
      "align_content": null,
      "align_items": null,
      "align_self": null,
      "border": null,
      "bottom": null,
      "display": null,
      "flex": null,
      "flex_flow": null,
      "grid_area": null,
      "grid_auto_columns": null,
      "grid_auto_flow": null,
      "grid_auto_rows": null,
      "grid_column": null,
      "grid_gap": null,
      "grid_row": null,
      "grid_template_areas": null,
      "grid_template_columns": null,
      "grid_template_rows": null,
      "height": null,
      "justify_content": null,
      "justify_items": null,
      "left": null,
      "margin": null,
      "max_height": null,
      "max_width": null,
      "min_height": null,
      "min_width": null,
      "object_fit": null,
      "object_position": null,
      "order": null,
      "overflow": null,
      "overflow_x": null,
      "overflow_y": null,
      "padding": null,
      "right": null,
      "top": null,
      "visibility": "hidden",
      "width": null
     }
    },
    "7e197675f9964e29b4edf08881b4aeeb": {
     "model_module": "@jupyter-widgets/controls",
     "model_module_version": "1.5.0",
     "model_name": "DescriptionStyleModel",
     "state": {
      "_model_module": "@jupyter-widgets/controls",
      "_model_module_version": "1.5.0",
      "_model_name": "DescriptionStyleModel",
      "_view_count": null,
      "_view_module": "@jupyter-widgets/base",
      "_view_module_version": "1.2.0",
      "_view_name": "StyleView",
      "description_width": ""
     }
    },
    "83bdbc0c84d64a818592f38784cc3fc7": {
     "model_module": "@jupyter-widgets/controls",
     "model_module_version": "1.5.0",
     "model_name": "HTMLModel",
     "state": {
      "_dom_classes": [],
      "_model_module": "@jupyter-widgets/controls",
      "_model_module_version": "1.5.0",
      "_model_name": "HTMLModel",
      "_view_count": null,
      "_view_module": "@jupyter-widgets/controls",
      "_view_module_version": "1.5.0",
      "_view_name": "HTMLView",
      "description": "",
      "description_tooltip": null,
      "layout": "IPY_MODEL_5b9886dccefb4f0c89a96ab02e448d09",
      "placeholder": "​",
      "style": "IPY_MODEL_03c7b74ae40a42df85074cf9f035ef18",
      "value": " 1/1 [00:02&lt;00:00,  2.87s/ url]"
     }
    },
    "853fcb2221584d5085cc90f56da4fd6b": {
     "model_module": "@jupyter-widgets/controls",
     "model_module_version": "1.5.0",
     "model_name": "HTMLModel",
     "state": {
      "_dom_classes": [],
      "_model_module": "@jupyter-widgets/controls",
      "_model_module_version": "1.5.0",
      "_model_name": "HTMLModel",
      "_view_count": null,
      "_view_module": "@jupyter-widgets/controls",
      "_view_module_version": "1.5.0",
      "_view_name": "HTMLView",
      "description": "",
      "description_tooltip": null,
      "layout": "IPY_MODEL_087c31432e064b64b26e7f3f47efdef0",
      "placeholder": "​",
      "style": "IPY_MODEL_22d28bc8ec6e44a88746b3c3c6a01c91",
      "value": " 80/80 [00:02&lt;00:00, 53.29 MiB/s]"
     }
    },
    "86a29e171b394561aa3d881b50e98b19": {
     "model_module": "@jupyter-widgets/controls",
     "model_module_version": "1.5.0",
     "model_name": "DescriptionStyleModel",
     "state": {
      "_model_module": "@jupyter-widgets/controls",
      "_model_module_version": "1.5.0",
      "_model_name": "DescriptionStyleModel",
      "_view_count": null,
      "_view_module": "@jupyter-widgets/base",
      "_view_module_version": "1.2.0",
      "_view_name": "StyleView",
      "description_width": ""
     }
    },
    "87220eb76ef2461383db0e0cb6498068": {
     "model_module": "@jupyter-widgets/base",
     "model_module_version": "1.2.0",
     "model_name": "LayoutModel",
     "state": {
      "_model_module": "@jupyter-widgets/base",
      "_model_module_version": "1.2.0",
      "_model_name": "LayoutModel",
      "_view_count": null,
      "_view_module": "@jupyter-widgets/base",
      "_view_module_version": "1.2.0",
      "_view_name": "LayoutView",
      "align_content": null,
      "align_items": null,
      "align_self": null,
      "border": null,
      "bottom": null,
      "display": null,
      "flex": null,
      "flex_flow": null,
      "grid_area": null,
      "grid_auto_columns": null,
      "grid_auto_flow": null,
      "grid_auto_rows": null,
      "grid_column": null,
      "grid_gap": null,
      "grid_row": null,
      "grid_template_areas": null,
      "grid_template_columns": null,
      "grid_template_rows": null,
      "height": null,
      "justify_content": null,
      "justify_items": null,
      "left": null,
      "margin": null,
      "max_height": null,
      "max_width": null,
      "min_height": null,
      "min_width": null,
      "object_fit": null,
      "object_position": null,
      "order": null,
      "overflow": null,
      "overflow_x": null,
      "overflow_y": null,
      "padding": null,
      "right": null,
      "top": null,
      "visibility": null,
      "width": null
     }
    },
    "89a5cc73cbbe4bd592f80e7bab9a1809": {
     "model_module": "@jupyter-widgets/base",
     "model_module_version": "1.2.0",
     "model_name": "LayoutModel",
     "state": {
      "_model_module": "@jupyter-widgets/base",
      "_model_module_version": "1.2.0",
      "_model_name": "LayoutModel",
      "_view_count": null,
      "_view_module": "@jupyter-widgets/base",
      "_view_module_version": "1.2.0",
      "_view_name": "LayoutView",
      "align_content": null,
      "align_items": null,
      "align_self": null,
      "border": null,
      "bottom": null,
      "display": null,
      "flex": null,
      "flex_flow": null,
      "grid_area": null,
      "grid_auto_columns": null,
      "grid_auto_flow": null,
      "grid_auto_rows": null,
      "grid_column": null,
      "grid_gap": null,
      "grid_row": null,
      "grid_template_areas": null,
      "grid_template_columns": null,
      "grid_template_rows": null,
      "height": null,
      "justify_content": null,
      "justify_items": null,
      "left": null,
      "margin": null,
      "max_height": null,
      "max_width": null,
      "min_height": null,
      "min_width": null,
      "object_fit": null,
      "object_position": null,
      "order": null,
      "overflow": null,
      "overflow_x": null,
      "overflow_y": null,
      "padding": null,
      "right": null,
      "top": null,
      "visibility": null,
      "width": null
     }
    },
    "8a59b23ff2994258b9c03522b64f2525": {
     "model_module": "@jupyter-widgets/base",
     "model_module_version": "1.2.0",
     "model_name": "LayoutModel",
     "state": {
      "_model_module": "@jupyter-widgets/base",
      "_model_module_version": "1.2.0",
      "_model_name": "LayoutModel",
      "_view_count": null,
      "_view_module": "@jupyter-widgets/base",
      "_view_module_version": "1.2.0",
      "_view_name": "LayoutView",
      "align_content": null,
      "align_items": null,
      "align_self": null,
      "border": null,
      "bottom": null,
      "display": null,
      "flex": null,
      "flex_flow": null,
      "grid_area": null,
      "grid_auto_columns": null,
      "grid_auto_flow": null,
      "grid_auto_rows": null,
      "grid_column": null,
      "grid_gap": null,
      "grid_row": null,
      "grid_template_areas": null,
      "grid_template_columns": null,
      "grid_template_rows": null,
      "height": null,
      "justify_content": null,
      "justify_items": null,
      "left": null,
      "margin": null,
      "max_height": null,
      "max_width": null,
      "min_height": null,
      "min_width": null,
      "object_fit": null,
      "object_position": null,
      "order": null,
      "overflow": null,
      "overflow_x": null,
      "overflow_y": null,
      "padding": null,
      "right": null,
      "top": null,
      "visibility": "hidden",
      "width": null
     }
    },
    "8f5d3f787e0247b9bda39995a64ac529": {
     "model_module": "@jupyter-widgets/controls",
     "model_module_version": "1.5.0",
     "model_name": "ProgressStyleModel",
     "state": {
      "_model_module": "@jupyter-widgets/controls",
      "_model_module_version": "1.5.0",
      "_model_name": "ProgressStyleModel",
      "_view_count": null,
      "_view_module": "@jupyter-widgets/base",
      "_view_module_version": "1.2.0",
      "_view_name": "StyleView",
      "bar_color": null,
      "description_width": ""
     }
    },
    "90117682d8c14b64a7997e2bbe8e69ec": {
     "model_module": "@jupyter-widgets/controls",
     "model_module_version": "1.5.0",
     "model_name": "FloatProgressModel",
     "state": {
      "_dom_classes": [],
      "_model_module": "@jupyter-widgets/controls",
      "_model_module_version": "1.5.0",
      "_model_name": "FloatProgressModel",
      "_view_count": null,
      "_view_module": "@jupyter-widgets/controls",
      "_view_module_version": "1.5.0",
      "_view_name": "ProgressView",
      "bar_style": "",
      "description": "",
      "description_tooltip": null,
      "layout": "IPY_MODEL_68e75cd66cbf4bcc92355aabd74cb3be",
      "max": 3,
      "min": 0,
      "orientation": "horizontal",
      "style": "IPY_MODEL_e32fd5d9bd044d5a8cf208c647a35573",
      "value": 3
     }
    },
    "96ec9ca477b14c67977431c50fa8d05c": {
     "model_module": "@jupyter-widgets/controls",
     "model_module_version": "1.5.0",
     "model_name": "HTMLModel",
     "state": {
      "_dom_classes": [],
      "_model_module": "@jupyter-widgets/controls",
      "_model_module_version": "1.5.0",
      "_model_name": "HTMLModel",
      "_view_count": null,
      "_view_module": "@jupyter-widgets/controls",
      "_view_module_version": "1.5.0",
      "_view_name": "HTMLView",
      "description": "",
      "description_tooltip": null,
      "layout": "IPY_MODEL_e5483b2ffa7543dea7240e43f76f4b8c",
      "placeholder": "​",
      "style": "IPY_MODEL_09b94bc03c554c5b9ec82fa93fa3924b",
      "value": " 24879/25000 [00:07&lt;00:00, 5150.15 examples/s]"
     }
    },
    "9bb383c4c8f847f18d2eff126c075b1f": {
     "model_module": "@jupyter-widgets/controls",
     "model_module_version": "1.5.0",
     "model_name": "ProgressStyleModel",
     "state": {
      "_model_module": "@jupyter-widgets/controls",
      "_model_module_version": "1.5.0",
      "_model_name": "ProgressStyleModel",
      "_view_count": null,
      "_view_module": "@jupyter-widgets/base",
      "_view_module_version": "1.2.0",
      "_view_name": "StyleView",
      "bar_color": null,
      "description_width": ""
     }
    },
    "9f0187ea5ed141489ac5e25edef362a4": {
     "model_module": "@jupyter-widgets/controls",
     "model_module_version": "1.5.0",
     "model_name": "ProgressStyleModel",
     "state": {
      "_model_module": "@jupyter-widgets/controls",
      "_model_module_version": "1.5.0",
      "_model_name": "ProgressStyleModel",
      "_view_count": null,
      "_view_module": "@jupyter-widgets/base",
      "_view_module_version": "1.2.0",
      "_view_name": "StyleView",
      "bar_color": null,
      "description_width": ""
     }
    },
    "a4bb283ce71d4117bf3e821dfdee4ebe": {
     "model_module": "@jupyter-widgets/controls",
     "model_module_version": "1.5.0",
     "model_name": "DescriptionStyleModel",
     "state": {
      "_model_module": "@jupyter-widgets/controls",
      "_model_module_version": "1.5.0",
      "_model_name": "DescriptionStyleModel",
      "_view_count": null,
      "_view_module": "@jupyter-widgets/base",
      "_view_module_version": "1.2.0",
      "_view_name": "StyleView",
      "description_width": ""
     }
    },
    "aca53551fcb54956b500c1a6da6265cd": {
     "model_module": "@jupyter-widgets/controls",
     "model_module_version": "1.5.0",
     "model_name": "DescriptionStyleModel",
     "state": {
      "_model_module": "@jupyter-widgets/controls",
      "_model_module_version": "1.5.0",
      "_model_name": "DescriptionStyleModel",
      "_view_count": null,
      "_view_module": "@jupyter-widgets/base",
      "_view_module_version": "1.2.0",
      "_view_name": "StyleView",
      "description_width": ""
     }
    },
    "aed3e8a077f24994a9ed0a329085b4e8": {
     "model_module": "@jupyter-widgets/base",
     "model_module_version": "1.2.0",
     "model_name": "LayoutModel",
     "state": {
      "_model_module": "@jupyter-widgets/base",
      "_model_module_version": "1.2.0",
      "_model_name": "LayoutModel",
      "_view_count": null,
      "_view_module": "@jupyter-widgets/base",
      "_view_module_version": "1.2.0",
      "_view_name": "LayoutView",
      "align_content": null,
      "align_items": null,
      "align_self": null,
      "border": null,
      "bottom": null,
      "display": null,
      "flex": null,
      "flex_flow": null,
      "grid_area": null,
      "grid_auto_columns": null,
      "grid_auto_flow": null,
      "grid_auto_rows": null,
      "grid_column": null,
      "grid_gap": null,
      "grid_row": null,
      "grid_template_areas": null,
      "grid_template_columns": null,
      "grid_template_rows": null,
      "height": null,
      "justify_content": null,
      "justify_items": null,
      "left": null,
      "margin": null,
      "max_height": null,
      "max_width": null,
      "min_height": null,
      "min_width": null,
      "object_fit": null,
      "object_position": null,
      "order": null,
      "overflow": null,
      "overflow_x": null,
      "overflow_y": null,
      "padding": null,
      "right": null,
      "top": null,
      "visibility": null,
      "width": null
     }
    },
    "b374d3c2e3564a9b8258367fd328d154": {
     "model_module": "@jupyter-widgets/controls",
     "model_module_version": "1.5.0",
     "model_name": "HTMLModel",
     "state": {
      "_dom_classes": [],
      "_model_module": "@jupyter-widgets/controls",
      "_model_module_version": "1.5.0",
      "_model_name": "HTMLModel",
      "_view_count": null,
      "_view_module": "@jupyter-widgets/controls",
      "_view_module_version": "1.5.0",
      "_view_name": "HTMLView",
      "description": "",
      "description_tooltip": null,
      "layout": "IPY_MODEL_5161f0962f844b10bd435d165d7f2f26",
      "placeholder": "​",
      "style": "IPY_MODEL_dbda7bf6eacf4d76a146efc5838eb88e",
      "value": " 12075/25000 [00:00&lt;00:00, 120734.86 examples/s]"
     }
    },
    "b472656ca670415f85071aafd5088811": {
     "model_module": "@jupyter-widgets/controls",
     "model_module_version": "1.5.0",
     "model_name": "FloatProgressModel",
     "state": {
      "_dom_classes": [],
      "_model_module": "@jupyter-widgets/controls",
      "_model_module_version": "1.5.0",
      "_model_name": "FloatProgressModel",
      "_view_count": null,
      "_view_module": "@jupyter-widgets/controls",
      "_view_module_version": "1.5.0",
      "_view_name": "ProgressView",
      "bar_style": "",
      "description": "",
      "description_tooltip": null,
      "layout": "IPY_MODEL_4e8990a41b0247b499c6204b66e66540",
      "max": 25000,
      "min": 0,
      "orientation": "horizontal",
      "style": "IPY_MODEL_1f041d57052441edb6eef999c3f69f67",
      "value": 25000
     }
    },
    "b6d1906a52054c8bacb7b062772aedf5": {
     "model_module": "@jupyter-widgets/controls",
     "model_module_version": "1.5.0",
     "model_name": "HTMLModel",
     "state": {
      "_dom_classes": [],
      "_model_module": "@jupyter-widgets/controls",
      "_model_module_version": "1.5.0",
      "_model_name": "HTMLModel",
      "_view_count": null,
      "_view_module": "@jupyter-widgets/controls",
      "_view_module_version": "1.5.0",
      "_view_name": "HTMLView",
      "description": "",
      "description_tooltip": null,
      "layout": "IPY_MODEL_0dd64f13251043c6961ea581a96ef67c",
      "placeholder": "​",
      "style": "IPY_MODEL_e6963580481f4b86a759db7982b3b769",
      "value": " 49986/50000 [00:13&lt;00:00, 5400.15 examples/s]"
     }
    },
    "bce7ad880fa5457ba101bed1d13b2296": {
     "model_module": "@jupyter-widgets/base",
     "model_module_version": "1.2.0",
     "model_name": "LayoutModel",
     "state": {
      "_model_module": "@jupyter-widgets/base",
      "_model_module_version": "1.2.0",
      "_model_name": "LayoutModel",
      "_view_count": null,
      "_view_module": "@jupyter-widgets/base",
      "_view_module_version": "1.2.0",
      "_view_name": "LayoutView",
      "align_content": null,
      "align_items": null,
      "align_self": null,
      "border": null,
      "bottom": null,
      "display": null,
      "flex": null,
      "flex_flow": null,
      "grid_area": null,
      "grid_auto_columns": null,
      "grid_auto_flow": null,
      "grid_auto_rows": null,
      "grid_column": null,
      "grid_gap": null,
      "grid_row": null,
      "grid_template_areas": null,
      "grid_template_columns": null,
      "grid_template_rows": null,
      "height": null,
      "justify_content": null,
      "justify_items": null,
      "left": null,
      "margin": null,
      "max_height": null,
      "max_width": null,
      "min_height": null,
      "min_width": null,
      "object_fit": null,
      "object_position": null,
      "order": null,
      "overflow": null,
      "overflow_x": null,
      "overflow_y": null,
      "padding": null,
      "right": null,
      "top": null,
      "visibility": null,
      "width": null
     }
    },
    "bddaab3a79b5463195823d6797e87382": {
     "model_module": "@jupyter-widgets/controls",
     "model_module_version": "1.5.0",
     "model_name": "FloatProgressModel",
     "state": {
      "_dom_classes": [],
      "_model_module": "@jupyter-widgets/controls",
      "_model_module_version": "1.5.0",
      "_model_name": "FloatProgressModel",
      "_view_count": null,
      "_view_module": "@jupyter-widgets/controls",
      "_view_module_version": "1.5.0",
      "_view_name": "ProgressView",
      "bar_style": "success",
      "description": "",
      "description_tooltip": null,
      "layout": "IPY_MODEL_f00be5cb3fd8405db2231443017e2736",
      "max": 1,
      "min": 0,
      "orientation": "horizontal",
      "style": "IPY_MODEL_13aed20090814058bd274504863ef0c6",
      "value": 1
     }
    },
    "c46b9aa4217b48cdb85aafec7a7ffbb3": {
     "model_module": "@jupyter-widgets/controls",
     "model_module_version": "1.5.0",
     "model_name": "HBoxModel",
     "state": {
      "_dom_classes": [],
      "_model_module": "@jupyter-widgets/controls",
      "_model_module_version": "1.5.0",
      "_model_name": "HBoxModel",
      "_view_count": null,
      "_view_module": "@jupyter-widgets/controls",
      "_view_module_version": "1.5.0",
      "_view_name": "HBoxView",
      "box_style": "",
      "children": [
       "IPY_MODEL_1d4b70741340447bab77375d3d39fdbd",
       "IPY_MODEL_5d974c61242641d4a82db3c8a482b778",
       "IPY_MODEL_83bdbc0c84d64a818592f38784cc3fc7"
      ],
      "layout": "IPY_MODEL_42878d729ada423185f2f0404cd112b5"
     }
    },
    "c975c54a0303471189b9f7a1a64feaa5": {
     "model_module": "@jupyter-widgets/controls",
     "model_module_version": "1.5.0",
     "model_name": "DescriptionStyleModel",
     "state": {
      "_model_module": "@jupyter-widgets/controls",
      "_model_module_version": "1.5.0",
      "_model_name": "DescriptionStyleModel",
      "_view_count": null,
      "_view_module": "@jupyter-widgets/base",
      "_view_module_version": "1.2.0",
      "_view_name": "StyleView",
      "description_width": ""
     }
    },
    "cba1be8584ee4e54bb6a1615899cfe26": {
     "model_module": "@jupyter-widgets/controls",
     "model_module_version": "1.5.0",
     "model_name": "DescriptionStyleModel",
     "state": {
      "_model_module": "@jupyter-widgets/controls",
      "_model_module_version": "1.5.0",
      "_model_name": "DescriptionStyleModel",
      "_view_count": null,
      "_view_module": "@jupyter-widgets/base",
      "_view_module_version": "1.2.0",
      "_view_name": "StyleView",
      "description_width": ""
     }
    },
    "ccf6ebc9fe2143b9ba9d38b1711a4dee": {
     "model_module": "@jupyter-widgets/controls",
     "model_module_version": "1.5.0",
     "model_name": "HTMLModel",
     "state": {
      "_dom_classes": [],
      "_model_module": "@jupyter-widgets/controls",
      "_model_module_version": "1.5.0",
      "_model_name": "HTMLModel",
      "_view_count": null,
      "_view_module": "@jupyter-widgets/controls",
      "_view_module_version": "1.5.0",
      "_view_name": "HTMLView",
      "description": "",
      "description_tooltip": null,
      "layout": "IPY_MODEL_63344e55c29247ec8c6063dca928fa5f",
      "placeholder": "​",
      "style": "IPY_MODEL_aca53551fcb54956b500c1a6da6265cd",
      "value": "Generating unsupervised examples...: 100%"
     }
    },
    "d163aaaa0df54fec8f9ef66356c4d10b": {
     "model_module": "@jupyter-widgets/controls",
     "model_module_version": "1.5.0",
     "model_name": "ProgressStyleModel",
     "state": {
      "_model_module": "@jupyter-widgets/controls",
      "_model_module_version": "1.5.0",
      "_model_name": "ProgressStyleModel",
      "_view_count": null,
      "_view_module": "@jupyter-widgets/base",
      "_view_module_version": "1.2.0",
      "_view_name": "StyleView",
      "bar_color": null,
      "description_width": ""
     }
    },
    "d7f8c7e0b8ec4a90ade1d42f0cd776a2": {
     "model_module": "@jupyter-widgets/base",
     "model_module_version": "1.2.0",
     "model_name": "LayoutModel",
     "state": {
      "_model_module": "@jupyter-widgets/base",
      "_model_module_version": "1.2.0",
      "_model_name": "LayoutModel",
      "_view_count": null,
      "_view_module": "@jupyter-widgets/base",
      "_view_module_version": "1.2.0",
      "_view_name": "LayoutView",
      "align_content": null,
      "align_items": null,
      "align_self": null,
      "border": null,
      "bottom": null,
      "display": null,
      "flex": null,
      "flex_flow": null,
      "grid_area": null,
      "grid_auto_columns": null,
      "grid_auto_flow": null,
      "grid_auto_rows": null,
      "grid_column": null,
      "grid_gap": null,
      "grid_row": null,
      "grid_template_areas": null,
      "grid_template_columns": null,
      "grid_template_rows": null,
      "height": null,
      "justify_content": null,
      "justify_items": null,
      "left": null,
      "margin": null,
      "max_height": null,
      "max_width": null,
      "min_height": null,
      "min_width": null,
      "object_fit": null,
      "object_position": null,
      "order": null,
      "overflow": null,
      "overflow_x": null,
      "overflow_y": null,
      "padding": null,
      "right": null,
      "top": null,
      "visibility": "hidden",
      "width": null
     }
    },
    "d9d05408d80443f0830e6d5475875157": {
     "model_module": "@jupyter-widgets/controls",
     "model_module_version": "1.5.0",
     "model_name": "DescriptionStyleModel",
     "state": {
      "_model_module": "@jupyter-widgets/controls",
      "_model_module_version": "1.5.0",
      "_model_name": "DescriptionStyleModel",
      "_view_count": null,
      "_view_module": "@jupyter-widgets/base",
      "_view_module_version": "1.2.0",
      "_view_name": "StyleView",
      "description_width": ""
     }
    },
    "dbda7bf6eacf4d76a146efc5838eb88e": {
     "model_module": "@jupyter-widgets/controls",
     "model_module_version": "1.5.0",
     "model_name": "DescriptionStyleModel",
     "state": {
      "_model_module": "@jupyter-widgets/controls",
      "_model_module_version": "1.5.0",
      "_model_name": "DescriptionStyleModel",
      "_view_count": null,
      "_view_module": "@jupyter-widgets/base",
      "_view_module_version": "1.2.0",
      "_view_name": "StyleView",
      "description_width": ""
     }
    },
    "df5681a89cd54ac4af64dc8dfaefd52b": {
     "model_module": "@jupyter-widgets/controls",
     "model_module_version": "1.5.0",
     "model_name": "HTMLModel",
     "state": {
      "_dom_classes": [],
      "_model_module": "@jupyter-widgets/controls",
      "_model_module_version": "1.5.0",
      "_model_name": "HTMLModel",
      "_view_count": null,
      "_view_module": "@jupyter-widgets/controls",
      "_view_module_version": "1.5.0",
      "_view_name": "HTMLView",
      "description": "",
      "description_tooltip": null,
      "layout": "IPY_MODEL_87220eb76ef2461383db0e0cb6498068",
      "placeholder": "​",
      "style": "IPY_MODEL_86a29e171b394561aa3d881b50e98b19",
      "value": " 24633/25000 [00:05&lt;00:00, 5512.37 examples/s]"
     }
    },
    "df57b91e09214bf4a3c3cbb91bcd5803": {
     "model_module": "@jupyter-widgets/base",
     "model_module_version": "1.2.0",
     "model_name": "LayoutModel",
     "state": {
      "_model_module": "@jupyter-widgets/base",
      "_model_module_version": "1.2.0",
      "_model_name": "LayoutModel",
      "_view_count": null,
      "_view_module": "@jupyter-widgets/base",
      "_view_module_version": "1.2.0",
      "_view_name": "LayoutView",
      "align_content": null,
      "align_items": null,
      "align_self": null,
      "border": null,
      "bottom": null,
      "display": null,
      "flex": null,
      "flex_flow": null,
      "grid_area": null,
      "grid_auto_columns": null,
      "grid_auto_flow": null,
      "grid_auto_rows": null,
      "grid_column": null,
      "grid_gap": null,
      "grid_row": null,
      "grid_template_areas": null,
      "grid_template_columns": null,
      "grid_template_rows": null,
      "height": null,
      "justify_content": null,
      "justify_items": null,
      "left": null,
      "margin": null,
      "max_height": null,
      "max_width": null,
      "min_height": null,
      "min_width": null,
      "object_fit": null,
      "object_position": null,
      "order": null,
      "overflow": null,
      "overflow_x": null,
      "overflow_y": null,
      "padding": null,
      "right": null,
      "top": null,
      "visibility": null,
      "width": null
     }
    },
    "df77d80ffd7940b593cbb5c21e458844": {
     "model_module": "@jupyter-widgets/base",
     "model_module_version": "1.2.0",
     "model_name": "LayoutModel",
     "state": {
      "_model_module": "@jupyter-widgets/base",
      "_model_module_version": "1.2.0",
      "_model_name": "LayoutModel",
      "_view_count": null,
      "_view_module": "@jupyter-widgets/base",
      "_view_module_version": "1.2.0",
      "_view_name": "LayoutView",
      "align_content": null,
      "align_items": null,
      "align_self": null,
      "border": null,
      "bottom": null,
      "display": null,
      "flex": null,
      "flex_flow": null,
      "grid_area": null,
      "grid_auto_columns": null,
      "grid_auto_flow": null,
      "grid_auto_rows": null,
      "grid_column": null,
      "grid_gap": null,
      "grid_row": null,
      "grid_template_areas": null,
      "grid_template_columns": null,
      "grid_template_rows": null,
      "height": null,
      "justify_content": null,
      "justify_items": null,
      "left": null,
      "margin": null,
      "max_height": null,
      "max_width": null,
      "min_height": null,
      "min_width": null,
      "object_fit": null,
      "object_position": null,
      "order": null,
      "overflow": null,
      "overflow_x": null,
      "overflow_y": null,
      "padding": null,
      "right": null,
      "top": null,
      "visibility": null,
      "width": null
     }
    },
    "e1506961a225407394bb4d93c4370373": {
     "model_module": "@jupyter-widgets/controls",
     "model_module_version": "1.5.0",
     "model_name": "HBoxModel",
     "state": {
      "_dom_classes": [],
      "_model_module": "@jupyter-widgets/controls",
      "_model_module_version": "1.5.0",
      "_model_name": "HBoxModel",
      "_view_count": null,
      "_view_module": "@jupyter-widgets/controls",
      "_view_module_version": "1.5.0",
      "_view_name": "HBoxView",
      "box_style": "",
      "children": [
       "IPY_MODEL_12d8b41e1a2f491886becff971cc40d0",
       "IPY_MODEL_90117682d8c14b64a7997e2bbe8e69ec",
       "IPY_MODEL_1d939c70509642d98b9062bdbb85e98f"
      ],
      "layout": "IPY_MODEL_2a00d7e8c8684547ab1b469b7820f820"
     }
    },
    "e32fd5d9bd044d5a8cf208c647a35573": {
     "model_module": "@jupyter-widgets/controls",
     "model_module_version": "1.5.0",
     "model_name": "ProgressStyleModel",
     "state": {
      "_model_module": "@jupyter-widgets/controls",
      "_model_module_version": "1.5.0",
      "_model_name": "ProgressStyleModel",
      "_view_count": null,
      "_view_module": "@jupyter-widgets/base",
      "_view_module_version": "1.2.0",
      "_view_name": "StyleView",
      "bar_color": null,
      "description_width": ""
     }
    },
    "e5483b2ffa7543dea7240e43f76f4b8c": {
     "model_module": "@jupyter-widgets/base",
     "model_module_version": "1.2.0",
     "model_name": "LayoutModel",
     "state": {
      "_model_module": "@jupyter-widgets/base",
      "_model_module_version": "1.2.0",
      "_model_name": "LayoutModel",
      "_view_count": null,
      "_view_module": "@jupyter-widgets/base",
      "_view_module_version": "1.2.0",
      "_view_name": "LayoutView",
      "align_content": null,
      "align_items": null,
      "align_self": null,
      "border": null,
      "bottom": null,
      "display": null,
      "flex": null,
      "flex_flow": null,
      "grid_area": null,
      "grid_auto_columns": null,
      "grid_auto_flow": null,
      "grid_auto_rows": null,
      "grid_column": null,
      "grid_gap": null,
      "grid_row": null,
      "grid_template_areas": null,
      "grid_template_columns": null,
      "grid_template_rows": null,
      "height": null,
      "justify_content": null,
      "justify_items": null,
      "left": null,
      "margin": null,
      "max_height": null,
      "max_width": null,
      "min_height": null,
      "min_width": null,
      "object_fit": null,
      "object_position": null,
      "order": null,
      "overflow": null,
      "overflow_x": null,
      "overflow_y": null,
      "padding": null,
      "right": null,
      "top": null,
      "visibility": null,
      "width": null
     }
    },
    "e60ef685d9704ea8a7313e7ca2a8ab0b": {
     "model_module": "@jupyter-widgets/controls",
     "model_module_version": "1.5.0",
     "model_name": "HTMLModel",
     "state": {
      "_dom_classes": [],
      "_model_module": "@jupyter-widgets/controls",
      "_model_module_version": "1.5.0",
      "_model_name": "HTMLModel",
      "_view_count": null,
      "_view_module": "@jupyter-widgets/controls",
      "_view_module_version": "1.5.0",
      "_view_name": "HTMLView",
      "description": "",
      "description_tooltip": null,
      "layout": "IPY_MODEL_44bbd73fdc9441d89731fc839e840f97",
      "placeholder": "​",
      "style": "IPY_MODEL_cba1be8584ee4e54bb6a1615899cfe26",
      "value": "Shuffling /root/tensorflow_datasets/imdb_reviews/plain_text/1.0.0.incompleteXLEBBH/imdb_reviews-train.tfrecord*...:  52%"
     }
    },
    "e6963580481f4b86a759db7982b3b769": {
     "model_module": "@jupyter-widgets/controls",
     "model_module_version": "1.5.0",
     "model_name": "DescriptionStyleModel",
     "state": {
      "_model_module": "@jupyter-widgets/controls",
      "_model_module_version": "1.5.0",
      "_model_name": "DescriptionStyleModel",
      "_view_count": null,
      "_view_module": "@jupyter-widgets/base",
      "_view_module_version": "1.2.0",
      "_view_name": "StyleView",
      "description_width": ""
     }
    },
    "ebcd1e9b7d094fa49a70aa1ab649a32c": {
     "model_module": "@jupyter-widgets/controls",
     "model_module_version": "1.5.0",
     "model_name": "FloatProgressModel",
     "state": {
      "_dom_classes": [],
      "_model_module": "@jupyter-widgets/controls",
      "_model_module_version": "1.5.0",
      "_model_name": "FloatProgressModel",
      "_view_count": null,
      "_view_module": "@jupyter-widgets/controls",
      "_view_module_version": "1.5.0",
      "_view_name": "ProgressView",
      "bar_style": "",
      "description": "",
      "description_tooltip": null,
      "layout": "IPY_MODEL_0c320e24735542759a1fa7d0d361723b",
      "max": 25000,
      "min": 0,
      "orientation": "horizontal",
      "style": "IPY_MODEL_8f5d3f787e0247b9bda39995a64ac529",
      "value": 25000
     }
    },
    "ec7365a68e44498e8e99ae8c375fe25c": {
     "model_module": "@jupyter-widgets/base",
     "model_module_version": "1.2.0",
     "model_name": "LayoutModel",
     "state": {
      "_model_module": "@jupyter-widgets/base",
      "_model_module_version": "1.2.0",
      "_model_name": "LayoutModel",
      "_view_count": null,
      "_view_module": "@jupyter-widgets/base",
      "_view_module_version": "1.2.0",
      "_view_name": "LayoutView",
      "align_content": null,
      "align_items": null,
      "align_self": null,
      "border": null,
      "bottom": null,
      "display": null,
      "flex": null,
      "flex_flow": null,
      "grid_area": null,
      "grid_auto_columns": null,
      "grid_auto_flow": null,
      "grid_auto_rows": null,
      "grid_column": null,
      "grid_gap": null,
      "grid_row": null,
      "grid_template_areas": null,
      "grid_template_columns": null,
      "grid_template_rows": null,
      "height": null,
      "justify_content": null,
      "justify_items": null,
      "left": null,
      "margin": null,
      "max_height": null,
      "max_width": null,
      "min_height": null,
      "min_width": null,
      "object_fit": null,
      "object_position": null,
      "order": null,
      "overflow": null,
      "overflow_x": null,
      "overflow_y": null,
      "padding": null,
      "right": null,
      "top": null,
      "visibility": null,
      "width": null
     }
    },
    "ecc62c33f56c4dbbbde9a9580c2e6f85": {
     "model_module": "@jupyter-widgets/controls",
     "model_module_version": "1.5.0",
     "model_name": "HBoxModel",
     "state": {
      "_dom_classes": [],
      "_model_module": "@jupyter-widgets/controls",
      "_model_module_version": "1.5.0",
      "_model_name": "HBoxModel",
      "_view_count": null,
      "_view_module": "@jupyter-widgets/controls",
      "_view_module_version": "1.5.0",
      "_view_name": "HBoxView",
      "box_style": "",
      "children": [
       "IPY_MODEL_ccf6ebc9fe2143b9ba9d38b1711a4dee",
       "IPY_MODEL_29296ecc632548fe91fc5183c5220e03",
       "IPY_MODEL_b6d1906a52054c8bacb7b062772aedf5"
      ],
      "layout": "IPY_MODEL_11152baab1fc4191899dc41b21cc2dac"
     }
    },
    "edb786f9b0184a8eb6e7af614042ba61": {
     "model_module": "@jupyter-widgets/base",
     "model_module_version": "1.2.0",
     "model_name": "LayoutModel",
     "state": {
      "_model_module": "@jupyter-widgets/base",
      "_model_module_version": "1.2.0",
      "_model_name": "LayoutModel",
      "_view_count": null,
      "_view_module": "@jupyter-widgets/base",
      "_view_module_version": "1.2.0",
      "_view_name": "LayoutView",
      "align_content": null,
      "align_items": null,
      "align_self": null,
      "border": null,
      "bottom": null,
      "display": null,
      "flex": null,
      "flex_flow": null,
      "grid_area": null,
      "grid_auto_columns": null,
      "grid_auto_flow": null,
      "grid_auto_rows": null,
      "grid_column": null,
      "grid_gap": null,
      "grid_row": null,
      "grid_template_areas": null,
      "grid_template_columns": null,
      "grid_template_rows": null,
      "height": null,
      "justify_content": null,
      "justify_items": null,
      "left": null,
      "margin": null,
      "max_height": null,
      "max_width": null,
      "min_height": null,
      "min_width": null,
      "object_fit": null,
      "object_position": null,
      "order": null,
      "overflow": null,
      "overflow_x": null,
      "overflow_y": null,
      "padding": null,
      "right": null,
      "top": null,
      "visibility": null,
      "width": null
     }
    },
    "f00be5cb3fd8405db2231443017e2736": {
     "model_module": "@jupyter-widgets/base",
     "model_module_version": "1.2.0",
     "model_name": "LayoutModel",
     "state": {
      "_model_module": "@jupyter-widgets/base",
      "_model_module_version": "1.2.0",
      "_model_name": "LayoutModel",
      "_view_count": null,
      "_view_module": "@jupyter-widgets/base",
      "_view_module_version": "1.2.0",
      "_view_name": "LayoutView",
      "align_content": null,
      "align_items": null,
      "align_self": null,
      "border": null,
      "bottom": null,
      "display": null,
      "flex": null,
      "flex_flow": null,
      "grid_area": null,
      "grid_auto_columns": null,
      "grid_auto_flow": null,
      "grid_auto_rows": null,
      "grid_column": null,
      "grid_gap": null,
      "grid_row": null,
      "grid_template_areas": null,
      "grid_template_columns": null,
      "grid_template_rows": null,
      "height": null,
      "justify_content": null,
      "justify_items": null,
      "left": null,
      "margin": null,
      "max_height": null,
      "max_width": null,
      "min_height": null,
      "min_width": null,
      "object_fit": null,
      "object_position": null,
      "order": null,
      "overflow": null,
      "overflow_x": null,
      "overflow_y": null,
      "padding": null,
      "right": null,
      "top": null,
      "visibility": null,
      "width": "20px"
     }
    },
    "f2a5c389293247c58440e9c928fbbfe8": {
     "model_module": "@jupyter-widgets/controls",
     "model_module_version": "1.5.0",
     "model_name": "DescriptionStyleModel",
     "state": {
      "_model_module": "@jupyter-widgets/controls",
      "_model_module_version": "1.5.0",
      "_model_name": "DescriptionStyleModel",
      "_view_count": null,
      "_view_module": "@jupyter-widgets/base",
      "_view_module_version": "1.2.0",
      "_view_name": "StyleView",
      "description_width": ""
     }
    },
    "f560424493c2472792acac2d3651cde2": {
     "model_module": "@jupyter-widgets/controls",
     "model_module_version": "1.5.0",
     "model_name": "DescriptionStyleModel",
     "state": {
      "_model_module": "@jupyter-widgets/controls",
      "_model_module_version": "1.5.0",
      "_model_name": "DescriptionStyleModel",
      "_view_count": null,
      "_view_module": "@jupyter-widgets/base",
      "_view_module_version": "1.2.0",
      "_view_name": "StyleView",
      "description_width": ""
     }
    },
    "fed9d10708d6457c85110d1c96fd57d7": {
     "model_module": "@jupyter-widgets/controls",
     "model_module_version": "1.5.0",
     "model_name": "FloatProgressModel",
     "state": {
      "_dom_classes": [],
      "_model_module": "@jupyter-widgets/controls",
      "_model_module_version": "1.5.0",
      "_model_name": "FloatProgressModel",
      "_view_count": null,
      "_view_module": "@jupyter-widgets/controls",
      "_view_module_version": "1.5.0",
      "_view_name": "ProgressView",
      "bar_style": "",
      "description": "",
      "description_tooltip": null,
      "layout": "IPY_MODEL_732661c92bac4075bf9b4f1f1934ea7f",
      "max": 50000,
      "min": 0,
      "orientation": "horizontal",
      "style": "IPY_MODEL_463c852d7b134831a86233b1e12851ed",
      "value": 50000
     }
    },
    "ff4fbf2224f64e18b65370d47c14e922": {
     "model_module": "@jupyter-widgets/controls",
     "model_module_version": "1.5.0",
     "model_name": "DescriptionStyleModel",
     "state": {
      "_model_module": "@jupyter-widgets/controls",
      "_model_module_version": "1.5.0",
      "_model_name": "DescriptionStyleModel",
      "_view_count": null,
      "_view_module": "@jupyter-widgets/base",
      "_view_module_version": "1.2.0",
      "_view_name": "StyleView",
      "description_width": ""
     }
    }
   }
  }
 },
 "nbformat": 4,
 "nbformat_minor": 1
}
